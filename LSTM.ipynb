{
 "cells": [
  {
   "cell_type": "code",
   "execution_count": 1,
   "metadata": {
    "id": "p1cyFy-VSv7g"
   },
   "outputs": [],
   "source": [
    "# Libraries\n",
    "\n",
    "import matplotlib.pyplot as plt\n",
    "import pandas as pd\n",
    "import torch\n",
    "\n",
    "# Preliminaries\n",
    "from torchtext.legacy.data import Field, TabularDataset, BucketIterator\n",
    "\n",
    "# Models\n",
    "\n",
    "import torch.nn as nn\n",
    "from torch.nn.utils.rnn import pack_padded_sequence, pad_packed_sequence\n",
    "\n",
    "# Training\n",
    "\n",
    "import torch.optim as optim\n",
    "\n",
    "# Evaluation\n",
    "\n",
    "from sklearn.metrics import accuracy_score, classification_report, confusion_matrix\n",
    "import seaborn as sns\n",
    "\n",
    "# Tools\n",
    "from sklearn.model_selection import train_test_split\n",
    "\n",
    "\n",
    "# Phishing  => 1\n",
    "# Non-Phishing  => 0"
   ]
  },
  {
   "cell_type": "code",
   "execution_count": 2,
   "metadata": {
    "colab": {
     "base_uri": "https://localhost:8080/"
    },
    "id": "KOitQ7k7Sv7j",
    "outputId": "bd34bf37-2d57-4900-bc1e-00625bd9104d"
   },
   "outputs": [
    {
     "name": "stdout",
     "output_type": "stream",
     "text": [
      "1.8.1\n"
     ]
    }
   ],
   "source": [
    "print(torch.torch.__version__)\n"
   ]
  },
  {
   "cell_type": "code",
   "execution_count": 3,
   "metadata": {
    "colab": {
     "base_uri": "https://localhost:8080/"
    },
    "id": "Th6DRh82Sv7k",
    "outputId": "ca67563a-b847-4e99-c101-928afe24e85f"
   },
   "outputs": [
    {
     "name": "stdout",
     "output_type": "stream",
     "text": [
      "cuda:0\n"
     ]
    }
   ],
   "source": [
    "device = torch.device('cuda:0' if torch.cuda.is_available() else 'cpu')\n",
    "print(device)"
   ]
  },
  {
   "cell_type": "code",
   "execution_count": 4,
   "metadata": {
    "id": "Qps2tnltSv7l"
   },
   "outputs": [],
   "source": [
    "df_train_full = pd.read_csv(\"../input/CSV/Train.csv\")\n",
    "df_test = pd.read_csv(\"../input/CSV/Test.csv\")\n",
    "df_train, df_valid = train_test_split(df_train_full, train_size=0.90, random_state=7) "
   ]
  },
  {
   "cell_type": "code",
   "execution_count": 5,
   "metadata": {
    "id": "q9QpCo1VSv7l"
   },
   "outputs": [],
   "source": [
    "df_test = pd.read_csv(\"ttv_csvs/test.csv\")\n",
    "df_train = pd.read_csv(\"ttv_csvs/train.csv\")\n",
    "df_valid = pd.read_csv(\"ttv_csvs/valid.csv\")"
   ]
  },
  {
   "cell_type": "code",
   "execution_count": 6,
   "metadata": {
    "id": "pJ_FanfKTl5F"
   },
   "outputs": [],
   "source": [
    "df_test = df_test.dropna().reset_index(drop=True)\n",
    "df_train = df_train.dropna().reset_index(drop=True)\n",
    "df_valid = df_valid.dropna().reset_index(drop=True)"
   ]
  },
  {
   "cell_type": "code",
   "execution_count": 7,
   "metadata": {
    "colab": {
     "base_uri": "https://localhost:8080/"
    },
    "id": "yPEFr0K1Tn8O",
    "outputId": "7719aaf4-d3fe-417c-8d75-48de0fd11833"
   },
   "outputs": [
    {
     "data": {
      "text/plain": [
       "Phishing    0\n",
       "Text        0\n",
       "dtype: int64"
      ]
     },
     "execution_count": 7,
     "metadata": {},
     "output_type": "execute_result"
    }
   ],
   "source": [
    "df_train.isna().sum()"
   ]
  },
  {
   "cell_type": "code",
   "execution_count": 8,
   "metadata": {
    "colab": {
     "base_uri": "https://localhost:8080/",
     "height": 419
    },
    "id": "tAmp-RUkSv7m",
    "outputId": "19952a11-3c8f-4ac5-8f1e-5455e68cbd79"
   },
   "outputs": [
    {
     "data": {
      "text/html": [
       "<div>\n",
       "<style scoped>\n",
       "    .dataframe tbody tr th:only-of-type {\n",
       "        vertical-align: middle;\n",
       "    }\n",
       "\n",
       "    .dataframe tbody tr th {\n",
       "        vertical-align: top;\n",
       "    }\n",
       "\n",
       "    .dataframe thead th {\n",
       "        text-align: right;\n",
       "    }\n",
       "</style>\n",
       "<table border=\"1\" class=\"dataframe\">\n",
       "  <thead>\n",
       "    <tr style=\"text-align: right;\">\n",
       "      <th></th>\n",
       "      <th>Phishing</th>\n",
       "      <th>Text</th>\n",
       "    </tr>\n",
       "  </thead>\n",
       "  <tbody>\n",
       "    <tr>\n",
       "      <th>0</th>\n",
       "      <td>0</td>\n",
       "      <td>chris foster checked couldnt find anything reg...</td>\n",
       "    </tr>\n",
       "    <tr>\n",
       "      <th>1</th>\n",
       "      <td>1</td>\n",
       "      <td>desk dr frank west director incharge auditing ...</td>\n",
       "    </tr>\n",
       "    <tr>\n",
       "      <th>2</th>\n",
       "      <td>1</td>\n",
       "      <td>eddie started slowly toward feet gritting plas...</td>\n",
       "    </tr>\n",
       "    <tr>\n",
       "      <th>3</th>\n",
       "      <td>1</td>\n",
       "      <td>desk mr williams padmoreauditor general intern...</td>\n",
       "    </tr>\n",
       "    <tr>\n",
       "      <th>4</th>\n",
       "      <td>0</td>\n",
       "      <td>wanted let know havent forgotten traders sched...</td>\n",
       "    </tr>\n",
       "    <tr>\n",
       "      <th>...</th>\n",
       "      <td>...</td>\n",
       "      <td>...</td>\n",
       "    </tr>\n",
       "    <tr>\n",
       "      <th>9748</th>\n",
       "      <td>1</td>\n",
       "      <td>mr cheung puihang seng bank ltd des voeux rd b...</td>\n",
       "    </tr>\n",
       "    <tr>\n",
       "      <th>9749</th>\n",
       "      <td>1</td>\n",
       "      <td>help deskthis email sent outlook web app agree...</td>\n",
       "    </tr>\n",
       "    <tr>\n",
       "      <th>9750</th>\n",
       "      <td>1</td>\n",
       "      <td>hours left update email account please find at...</td>\n",
       "    </tr>\n",
       "    <tr>\n",
       "      <th>9751</th>\n",
       "      <td>0</td>\n",
       "      <td>p forwarded elizabeth sager hou ect pm enron n...</td>\n",
       "    </tr>\n",
       "    <tr>\n",
       "      <th>9752</th>\n",
       "      <td>1</td>\n",
       "      <td>dear valued paypal member regret inform yourac...</td>\n",
       "    </tr>\n",
       "  </tbody>\n",
       "</table>\n",
       "<p>9753 rows × 2 columns</p>\n",
       "</div>"
      ],
      "text/plain": [
       "      Phishing                                               Text\n",
       "0            0  chris foster checked couldnt find anything reg...\n",
       "1            1  desk dr frank west director incharge auditing ...\n",
       "2            1  eddie started slowly toward feet gritting plas...\n",
       "3            1  desk mr williams padmoreauditor general intern...\n",
       "4            0  wanted let know havent forgotten traders sched...\n",
       "...        ...                                                ...\n",
       "9748         1  mr cheung puihang seng bank ltd des voeux rd b...\n",
       "9749         1  help deskthis email sent outlook web app agree...\n",
       "9750         1  hours left update email account please find at...\n",
       "9751         0  p forwarded elizabeth sager hou ect pm enron n...\n",
       "9752         1  dear valued paypal member regret inform yourac...\n",
       "\n",
       "[9753 rows x 2 columns]"
      ]
     },
     "execution_count": 8,
     "metadata": {},
     "output_type": "execute_result"
    }
   ],
   "source": [
    "df_train"
   ]
  },
  {
   "cell_type": "code",
   "execution_count": 9,
   "metadata": {
    "id": "ujEAQwn_Sv7m"
   },
   "outputs": [],
   "source": [
    "source_folder = \"./ttv_csvs\"\n",
    "\n",
    "# Write split data\n",
    "df_train.to_csv(source_folder + '/train.csv', index=False)\n",
    "df_valid.to_csv(source_folder + '/valid.csv', index=False)\n",
    "df_test.to_csv(source_folder + '/test.csv', index=False)"
   ]
  },
  {
   "cell_type": "code",
   "execution_count": 10,
   "metadata": {
    "colab": {
     "base_uri": "https://localhost:8080/"
    },
    "id": "_DZqxEv7YtGD",
    "outputId": "480e77f2-8fc5-4d72-9188-a86a69ce3796"
   },
   "outputs": [
    {
     "data": {
      "text/plain": [
       "Phishing    0\n",
       "Text        0\n",
       "dtype: int64"
      ]
     },
     "execution_count": 10,
     "metadata": {},
     "output_type": "execute_result"
    }
   ],
   "source": [
    "df_train.isna().sum()"
   ]
  },
  {
   "cell_type": "code",
   "execution_count": 11,
   "metadata": {
    "colab": {
     "base_uri": "https://localhost:8080/"
    },
    "id": "4HbZPFYmUW08",
    "outputId": "909c1d1c-2fbc-4c8a-df37-3b121b6c5f77"
   },
   "outputs": [
    {
     "data": {
      "text/plain": [
       "<spacy.lang.en.English at 0x7f74fe863400>"
      ]
     },
     "execution_count": 11,
     "metadata": {},
     "output_type": "execute_result"
    }
   ],
   "source": [
    "import spacy\n",
    "spacy.load('en_core_web_sm')\n"
   ]
  },
  {
   "cell_type": "code",
   "execution_count": 12,
   "metadata": {
    "id": "m18VSJiMSv7n"
   },
   "outputs": [],
   "source": [
    "\n",
    "# Fields\n",
    "label_field = Field(sequential=False, use_vocab=False, batch_first=True, dtype=torch.float)\n",
    "text_field = Field(tokenize='spacy', lower=True, include_lengths=True, batch_first=True)\n",
    "fields = [(\"Phishing\", label_field), ('Text', text_field)]\n",
    "\n",
    "# TabularDataset\n",
    "\n",
    "train, valid, test = TabularDataset.splits(path=source_folder, train='train.csv', validation='valid.csv', test='test.csv', format='CSV', fields=fields, skip_header=True)\n",
    "\n",
    "# Iterators\n",
    "\n",
    "train_iter = BucketIterator(train, batch_size=32, sort_key=lambda x: len(x.Text), device=device, sort=True, sort_within_batch=True)\n",
    "valid_iter = BucketIterator(valid, batch_size=32, sort_key=lambda x: len(x.Text), device=device, sort=True, sort_within_batch=True)\n",
    "test_iter = BucketIterator(test, batch_size=32, sort_key=lambda x: len(x.Text), device=device, sort=True, sort_within_batch=True)\n",
    "\n",
    "# Vocabulary\n",
    "\n",
    "text_field.build_vocab(train, min_freq=3)"
   ]
  },
  {
   "cell_type": "code",
   "execution_count": 13,
   "metadata": {
    "id": "8RsqmlJqSv7n"
   },
   "outputs": [],
   "source": [
    "class LSTM(nn.Module):\n",
    "\n",
    "    def __init__(self, dimension=128):\n",
    "        super(LSTM, self).__init__()\n",
    "\n",
    "        self.embedding = nn.Embedding(len(text_field.vocab), 300)\n",
    "        self.dimension = dimension\n",
    "        self.lstm = nn.LSTM(input_size=300,\n",
    "                            hidden_size=dimension,\n",
    "                            num_layers=1,\n",
    "                            batch_first=True,\n",
    "                            bidirectional=True)\n",
    "        self.drop = nn.Dropout(p=0.5)\n",
    "\n",
    "        self.fc = nn.Linear(2*dimension, 1)\n",
    "\n",
    "    def forward(self, text, text_len):\n",
    "\n",
    "        text_emb = self.embedding(text)\n",
    "\n",
    "        packed_input = pack_padded_sequence(text_emb, text_len.cpu(), batch_first=True, enforce_sorted=False)\n",
    "        packed_output, _ = self.lstm(packed_input)\n",
    "        output, _ = pad_packed_sequence(packed_output, batch_first=True)\n",
    "\n",
    "        out_forward = output[range(len(output)), text_len - 1, :self.dimension]\n",
    "        out_reverse = output[:, 0, self.dimension:]\n",
    "        out_reduced = torch.cat((out_forward, out_reverse), 1)\n",
    "        text_fea = self.drop(out_reduced)\n",
    "\n",
    "        text_fea = self.fc(text_fea)\n",
    "        text_fea = torch.squeeze(text_fea, 1)\n",
    "        text_out = torch.sigmoid(text_fea)\n",
    "\n",
    "        return text_out"
   ]
  },
  {
   "cell_type": "code",
   "execution_count": 14,
   "metadata": {
    "id": "vD1F7dcISv7o"
   },
   "outputs": [],
   "source": [
    "# Save and Load Functions\n",
    "\n",
    "def save_checkpoint(save_path, model, optimizer, valid_loss):\n",
    "\n",
    "    if save_path == None:\n",
    "        return\n",
    "    \n",
    "    state_dict = {'model_state_dict': model.state_dict(),\n",
    "                  'optimizer_state_dict': optimizer.state_dict(),\n",
    "                  'valid_loss': valid_loss}\n",
    "    \n",
    "    torch.save(state_dict, save_path)\n",
    "    print(f'Model saved to ==> {save_path}')\n",
    "\n",
    "\n",
    "def load_checkpoint(load_path, model, optimizer):\n",
    "\n",
    "    if load_path==None:\n",
    "        return\n",
    "    \n",
    "    state_dict = torch.load(load_path, map_location=device)\n",
    "    print(f'Model loaded from <== {load_path}')\n",
    "    \n",
    "    model.load_state_dict(state_dict['model_state_dict'])\n",
    "    optimizer.load_state_dict(state_dict['optimizer_state_dict'])\n",
    "    \n",
    "    return state_dict['valid_loss']\n",
    "\n",
    "\n",
    "def save_metrics(save_path, train_loss_list, valid_loss_list, global_steps_list):\n",
    "\n",
    "    if save_path == None:\n",
    "        return\n",
    "    \n",
    "    state_dict = {'train_loss_list': train_loss_list,\n",
    "                  'valid_loss_list': valid_loss_list,\n",
    "                  'global_steps_list': global_steps_list}\n",
    "    \n",
    "    torch.save(state_dict, save_path)\n",
    "    print(f'Model saved to ==> {save_path}')\n",
    "\n",
    "\n",
    "def load_metrics(load_path):\n",
    "\n",
    "    if load_path==None:\n",
    "        return\n",
    "    \n",
    "    state_dict = torch.load(load_path, map_location=device)\n",
    "    print(f'Model loaded from <== {load_path}')\n",
    "    \n",
    "    return state_dict['train_loss_list'], state_dict['valid_loss_list'], state_dict['global_steps_list']"
   ]
  },
  {
   "cell_type": "code",
   "execution_count": 15,
   "metadata": {
    "id": "Vx5I-wbNSv7p"
   },
   "outputs": [],
   "source": [
    "destination_folder = \"./outputs\"\n",
    "\n",
    "# Training Function\n",
    "\n",
    "def train(model,\n",
    "          optimizer,\n",
    "          criterion = nn.BCELoss(),\n",
    "          train_loader = train_iter,\n",
    "          valid_loader = valid_iter,\n",
    "          num_epochs = 5,\n",
    "          eval_every = len(train_iter) // 2,\n",
    "          file_path = destination_folder,\n",
    "          best_valid_loss = float(\"Inf\")):\n",
    "    \n",
    "    # initialize running values\n",
    "    running_loss = 0.0\n",
    "    valid_running_loss = 0.0\n",
    "    global_step = 0\n",
    "    train_loss_list = []\n",
    "    valid_loss_list = []\n",
    "    global_steps_list = []\n",
    "\n",
    "    # training loop\n",
    "    model.train()\n",
    "    for epoch in range(num_epochs):\n",
    "        for (labels, (Text, Text_len)), _ in train_loader:           \n",
    "            labels = labels.to(device)\n",
    "            Text = Text.to(device)\n",
    "            Text_len = Text_len.to(device)\n",
    "            output = model(Text, Text_len)\n",
    "\n",
    "            loss = criterion(output, labels)\n",
    "            optimizer.zero_grad()\n",
    "            loss.backward()\n",
    "            optimizer.step()\n",
    "\n",
    "            # update running values\n",
    "            running_loss += loss.item()\n",
    "            global_step += 1\n",
    "\n",
    "            # evaluation step\n",
    "            if global_step % eval_every == 0:\n",
    "                model.eval()\n",
    "                with torch.no_grad():                    \n",
    "                  # validation loop\n",
    "                  for (labels, (Text, Text_len)), _ in valid_loader:\n",
    "                      labels = labels.to(device)\n",
    "                      Text = Text.to(device)\n",
    "                      Text_len = Text_len.to(device)\n",
    "                      output = model(Text, Text_len)\n",
    "\n",
    "                      loss = criterion(output, labels)\n",
    "                      valid_running_loss += loss.item()\n",
    "\n",
    "                # evaluation\n",
    "                average_train_loss = running_loss / eval_every\n",
    "                average_valid_loss = valid_running_loss / len(valid_loader)\n",
    "                train_loss_list.append(average_train_loss)\n",
    "                valid_loss_list.append(average_valid_loss)\n",
    "                global_steps_list.append(global_step)\n",
    "\n",
    "                # resetting running values\n",
    "                running_loss = 0.0                \n",
    "                valid_running_loss = 0.0\n",
    "                model.train()\n",
    "\n",
    "                # print progress\n",
    "                print('Epoch [{}/{}], Step [{}/{}], Train Loss: {:.4f}, Valid Loss: {:.4f}'\n",
    "                      .format(epoch+1, num_epochs, global_step, num_epochs*len(train_loader),\n",
    "                              average_train_loss, average_valid_loss))\n",
    "                \n",
    "                # checkpoint\n",
    "                if best_valid_loss > average_valid_loss:\n",
    "                    best_valid_loss = average_valid_loss\n",
    "                    save_checkpoint(file_path + '/model.pt', model, optimizer, best_valid_loss)\n",
    "                    save_metrics(file_path + '/metrics.pt', train_loss_list, valid_loss_list, global_steps_list)\n",
    "    \n",
    "    save_metrics(file_path + '/metrics.pt', train_loss_list, valid_loss_list, global_steps_list)\n",
    "    print('Finished Training!')"
   ]
  },
  {
   "cell_type": "code",
   "execution_count": 16,
   "metadata": {
    "id": "CN3qRIZ4Sv7r"
   },
   "outputs": [],
   "source": [
    "model = LSTM().to(device)\n",
    "optimizer = optim.Adam(model.parameters(), lr=0.001)"
   ]
  },
  {
   "cell_type": "code",
   "execution_count": 18,
   "metadata": {
    "colab": {
     "base_uri": "https://localhost:8080/"
    },
    "id": "cIbsTNrxSv7r",
    "outputId": "8e26e671-071a-444b-ed0a-3fe5f70e7311"
   },
   "outputs": [
    {
     "name": "stdout",
     "output_type": "stream",
     "text": [
      "Epoch [1/10], Step [152/3050], Train Loss: 0.0704, Valid Loss: 0.1617\n",
      "Model saved to ==> ./outputs/model.pt\n",
      "Model saved to ==> ./outputs/metrics.pt\n",
      "Epoch [1/10], Step [304/3050], Train Loss: 0.0389, Valid Loss: 0.0943\n",
      "Model saved to ==> ./outputs/model.pt\n",
      "Model saved to ==> ./outputs/metrics.pt\n",
      "Epoch [2/10], Step [456/3050], Train Loss: 0.0431, Valid Loss: 0.1054\n",
      "Epoch [2/10], Step [608/3050], Train Loss: 0.0202, Valid Loss: 0.0593\n",
      "Model saved to ==> ./outputs/model.pt\n",
      "Model saved to ==> ./outputs/metrics.pt\n",
      "Epoch [3/10], Step [760/3050], Train Loss: 0.0206, Valid Loss: 0.0466\n",
      "Model saved to ==> ./outputs/model.pt\n",
      "Model saved to ==> ./outputs/metrics.pt\n",
      "Epoch [3/10], Step [912/3050], Train Loss: 0.0029, Valid Loss: 0.0421\n",
      "Model saved to ==> ./outputs/model.pt\n",
      "Model saved to ==> ./outputs/metrics.pt\n",
      "Epoch [4/10], Step [1064/3050], Train Loss: 0.0085, Valid Loss: 0.0466\n",
      "Epoch [4/10], Step [1216/3050], Train Loss: 0.0006, Valid Loss: 0.0411\n",
      "Model saved to ==> ./outputs/model.pt\n",
      "Model saved to ==> ./outputs/metrics.pt\n",
      "Epoch [5/10], Step [1368/3050], Train Loss: 0.0037, Valid Loss: 0.0401\n",
      "Model saved to ==> ./outputs/model.pt\n",
      "Model saved to ==> ./outputs/metrics.pt\n",
      "Epoch [5/10], Step [1520/3050], Train Loss: 0.0003, Valid Loss: 0.0372\n",
      "Model saved to ==> ./outputs/model.pt\n",
      "Model saved to ==> ./outputs/metrics.pt\n",
      "Epoch [6/10], Step [1672/3050], Train Loss: 0.0021, Valid Loss: 0.0340\n",
      "Model saved to ==> ./outputs/model.pt\n",
      "Model saved to ==> ./outputs/metrics.pt\n",
      "Epoch [6/10], Step [1824/3050], Train Loss: 0.0001, Valid Loss: 0.0399\n",
      "Epoch [7/10], Step [1976/3050], Train Loss: 0.0012, Valid Loss: 0.0378\n",
      "Epoch [7/10], Step [2128/3050], Train Loss: 0.0000, Valid Loss: 0.0371\n",
      "Epoch [8/10], Step [2280/3050], Train Loss: 0.0009, Valid Loss: 0.0350\n",
      "Epoch [8/10], Step [2432/3050], Train Loss: 0.0000, Valid Loss: 0.0377\n",
      "Epoch [9/10], Step [2584/3050], Train Loss: 0.0007, Valid Loss: 0.0365\n",
      "Epoch [9/10], Step [2736/3050], Train Loss: 0.0000, Valid Loss: 0.0380\n",
      "Epoch [10/10], Step [2888/3050], Train Loss: 0.0005, Valid Loss: 0.0411\n",
      "Epoch [10/10], Step [3040/3050], Train Loss: 0.0000, Valid Loss: 0.0416\n",
      "Model saved to ==> ./outputs/metrics.pt\n",
      "Finished Training!\n"
     ]
    }
   ],
   "source": [
    "train(model=model, optimizer=optimizer, num_epochs=10)"
   ]
  },
  {
   "cell_type": "code",
   "execution_count": 20,
   "metadata": {
    "colab": {
     "base_uri": "https://localhost:8080/",
     "height": 296
    },
    "id": "U5dm3cz2Sv7s",
    "outputId": "df607538-f5a9-405c-8200-438e0bf32e6d"
   },
   "outputs": [
    {
     "name": "stdout",
     "output_type": "stream",
     "text": [
      "Model loaded from <== ./outputs/metrics.pt\n"
     ]
    },
    {
     "data": {
      "image/png": "[encoded data removed]",
      "text/plain": [
       "<Figure size 432x288 with 1 Axes>"
      ]
     },
     "metadata": {
      "needs_background": "light"
     },
     "output_type": "display_data"
    }
   ],
   "source": [
    "train_loss_list, valid_loss_list, global_steps_list = load_metrics(destination_folder + '/metrics.pt')\n",
    "plt.plot(global_steps_list, train_loss_list, label='Train')\n",
    "plt.plot(global_steps_list, valid_loss_list, label='Valid')\n",
    "plt.xlabel('Global Steps')\n",
    "plt.ylabel('Loss')\n",
    "plt.legend()\n",
    "plt.show() "
   ]
  },
  {
   "cell_type": "code",
   "execution_count": 21,
   "metadata": {
    "id": "Piqj-vmNSv7s"
   },
   "outputs": [],
   "source": [
    "# Evaluation Function\n",
    "\n",
    "def evaluate(model, test_loader, version='title', threshold=0.5):\n",
    "    y_pred = []\n",
    "    y_true = []\n",
    "\n",
    "    model.eval()\n",
    "    with torch.no_grad():\n",
    "        for (labels, (Text, Text_len)), _ in test_loader:           \n",
    "            labels = labels.to(device)\n",
    "            Text = Text.to(device)\n",
    "            Text_len = Text_len.to(device)\n",
    "            output = model(Text, Text_len)\n",
    "\n",
    "            output = (output > threshold).int()\n",
    "            y_pred.extend(output.tolist())\n",
    "            y_true.extend(labels.tolist())\n",
    "    \n",
    "    print('Classification Report:')\n",
    "    print(classification_report(y_true, y_pred, labels=[1,0], digits=4))\n",
    "    \n",
    "    cm = confusion_matrix(y_true, y_pred, labels=[1,0])\n",
    "    ax= plt.subplot()\n",
    "    sns.heatmap(cm, annot=True, ax = ax, cmap='Blues', fmt=\"d\")\n",
    "\n",
    "    ax.set_title('Confusion Matrix')\n",
    "\n",
    "    ax.set_xlabel('Predicted Labels')\n",
    "    ax.set_ylabel('True Labels')\n",
    "\n",
    "    ax.xaxis.set_ticklabels(['PHISH', 'NORMAL'])\n",
    "    ax.yaxis.set_ticklabels(['PHISH', 'NORMAL'])"
   ]
  },
  {
   "cell_type": "code",
   "execution_count": 22,
   "metadata": {
    "colab": {
     "base_uri": "https://localhost:8080/",
     "height": 482
    },
    "id": "HKW0kjReSv7s",
    "outputId": "c5eea337-b06c-4bd5-aae7-d4cbecca1f32"
   },
   "outputs": [
    {
     "name": "stdout",
     "output_type": "stream",
     "text": [
      "Model loaded from <== ./outputs/model.pt\n",
      "Classification Report:\n",
      "              precision    recall  f1-score   support\n",
      "\n",
      "           1     0.9825    0.9883    0.9854      1367\n",
      "           0     0.9880    0.9821    0.9851      1342\n",
      "\n",
      "    accuracy                         0.9852      2709\n",
      "   macro avg     0.9853    0.9852    0.9852      2709\n",
      "weighted avg     0.9853    0.9852    0.9852      2709\n",
      "\n"
     ]
    },
    {
     "data": {
      "image/png": "[encoded data removed]",
      "text/plain": [
       "<Figure size 432x288 with 2 Axes>"
      ]
     },
     "metadata": {
      "needs_background": "light"
     },
     "output_type": "display_data"
    }
   ],
   "source": [
    "best_model = LSTM().to(device)\n",
    "optimizer = optim.Adam(best_model.parameters(), lr=0.001)\n",
    "\n",
    "load_checkpoint(destination_folder + '/model.pt', best_model, optimizer)\n",
    "evaluate(best_model, test_iter)"
   ]
  },
  {
   "cell_type": "code",
   "execution_count": null,
   "metadata": {
    "id": "WsNeE9vvSv7t"
   },
   "outputs": [],
   "source": []
  },
  {
   "cell_type": "code",
   "execution_count": null,
   "metadata": {
    "id": "f-up67TUSv7t"
   },
   "outputs": [],
   "source": []
  },
  {
   "cell_type": "code",
   "execution_count": null,
   "metadata": {
    "id": "L2iy5HaWSv7t"
   },
   "outputs": [],
   "source": []
  },
  {
   "cell_type": "code",
   "execution_count": null,
   "metadata": {
    "id": "GxAi_EL8Sv7t"
   },
   "outputs": [],
   "source": []
  },
  {
   "cell_type": "code",
   "execution_count": null,
   "metadata": {
    "id": "ON_qNdz5Sv7t",
    "outputId": "d91e50ff-b49c-449f-df57-0352cdeb1309"
   },
   "outputs": [
    {
     "ename": "SyntaxError",
     "evalue": "invalid syntax (<ipython-input-84-25c722a77d9a>, line 1)",
     "output_type": "error",
     "traceback": [
      "\u001b[0;36m  File \u001b[0;32m\"<ipython-input-84-25c722a77d9a>\"\u001b[0;36m, line \u001b[0;32m1\u001b[0m\n\u001b[0;31m    df_valid[sentence for sentence in df_valid if len(sentence) < 10]\u001b[0m\n\u001b[0m                      ^\u001b[0m\n\u001b[0;31mSyntaxError\u001b[0m\u001b[0;31m:\u001b[0m invalid syntax\n"
     ]
    }
   ],
   "source": [
    "df_valid[sentence for sentence in df_valid if len(sentence) < 10]"
   ]
  },
  {
   "cell_type": "code",
   "execution_count": null,
   "metadata": {
    "id": "gCloKH8dSv7u",
    "outputId": "3aaa7303-a511-40a2-e0c1-79319ba07753"
   },
   "outputs": [
    {
     "data": {
      "text/html": [
       "<div>\n",
       "<style scoped>\n",
       "    .dataframe tbody tr th:only-of-type {\n",
       "        vertical-align: middle;\n",
       "    }\n",
       "\n",
       "    .dataframe tbody tr th {\n",
       "        vertical-align: top;\n",
       "    }\n",
       "\n",
       "    .dataframe thead th {\n",
       "        text-align: right;\n",
       "    }\n",
       "</style>\n",
       "<table border=\"1\" class=\"dataframe\">\n",
       "  <thead>\n",
       "    <tr style=\"text-align: right;\">\n",
       "      <th></th>\n",
       "      <th>Phishing</th>\n",
       "      <th>Text</th>\n",
       "    </tr>\n",
       "  </thead>\n",
       "  <tbody>\n",
       "    <tr>\n",
       "      <th>0</th>\n",
       "      <td>1</td>\n",
       "      <td>dear sir madam letter may come surprise due fa...</td>\n",
       "    </tr>\n",
       "    <tr>\n",
       "      <th>1</th>\n",
       "      <td>0</td>\n",
       "      <td>extended deal mtr include future please run we...</td>\n",
       "    </tr>\n",
       "    <tr>\n",
       "      <th>2</th>\n",
       "      <td>1</td>\n",
       "      <td>deari know proposal might surprise consider em...</td>\n",
       "    </tr>\n",
       "    <tr>\n",
       "      <th>3</th>\n",
       "      <td>1</td>\n",
       "      <td>dr tony devon road isieke close sungu johannes...</td>\n",
       "    </tr>\n",
       "    <tr>\n",
       "      <th>4</th>\n",
       "      <td>0</td>\n",
       "      <td>andy please assign user name randy gay thank p...</td>\n",
       "    </tr>\n",
       "    <tr>\n",
       "      <th>...</th>\n",
       "      <td>...</td>\n",
       "      <td>...</td>\n",
       "    </tr>\n",
       "    <tr>\n",
       "      <th>1079</th>\n",
       "      <td>0</td>\n",
       "      <td>get chance id like talk mm position thanksd</td>\n",
       "    </tr>\n",
       "    <tr>\n",
       "      <th>1080</th>\n",
       "      <td>1</td>\n",
       "      <td>dearerst make appeal understanding facts opini...</td>\n",
       "    </tr>\n",
       "    <tr>\n",
       "      <th>1081</th>\n",
       "      <td>0</td>\n",
       "      <td>appears missed cpys referenced list tom freeze...</td>\n",
       "    </tr>\n",
       "    <tr>\n",
       "      <th>1082</th>\n",
       "      <td>1</td>\n",
       "      <td>ebay sent message behalf cellunex registered n...</td>\n",
       "    </tr>\n",
       "    <tr>\n",
       "      <th>1083</th>\n",
       "      <td>0</td>\n",
       "      <td>enjoyed talking day happy answer questions tex...</td>\n",
       "    </tr>\n",
       "  </tbody>\n",
       "</table>\n",
       "<p>1084 rows × 2 columns</p>\n",
       "</div>"
      ],
      "text/plain": [
       "      Phishing                                               Text\n",
       "0            1  dear sir madam letter may come surprise due fa...\n",
       "1            0  extended deal mtr include future please run we...\n",
       "2            1  deari know proposal might surprise consider em...\n",
       "3            1  dr tony devon road isieke close sungu johannes...\n",
       "4            0  andy please assign user name randy gay thank p...\n",
       "...        ...                                                ...\n",
       "1079         0        get chance id like talk mm position thanksd\n",
       "1080         1  dearerst make appeal understanding facts opini...\n",
       "1081         0  appears missed cpys referenced list tom freeze...\n",
       "1082         1  ebay sent message behalf cellunex registered n...\n",
       "1083         0  enjoyed talking day happy answer questions tex...\n",
       "\n",
       "[1084 rows x 2 columns]"
      ]
     },
     "execution_count": 83,
     "metadata": {
      "tags": []
     },
     "output_type": "execute_result"
    }
   ],
   "source": [
    "df_valid"
   ]
  },
  {
   "cell_type": "code",
   "execution_count": null,
   "metadata": {
    "id": "0Y--sjX_Sv7u"
   },
   "outputs": [],
   "source": []
  }
 ],
 "metadata": {
  "accelerator": "GPU",
  "colab": {
   "collapsed_sections": [],
   "name": "LSTM.ipynb",
   "provenance": []
  },
  "kernelspec": {
   "display_name": "Python 3",
   "language": "python",
   "name": "python3"
  },
  "language_info": {
   "codemirror_mode": {
    "name": "ipython",
    "version": 3
   },
   "file_extension": ".py",
   "mimetype": "text/x-python",
   "name": "python",
   "nbconvert_exporter": "python",
   "pygments_lexer": "ipython3",
   "version": "3.8.5"
  }
 },
 "nbformat": 4,
 "nbformat_minor": 4
}
