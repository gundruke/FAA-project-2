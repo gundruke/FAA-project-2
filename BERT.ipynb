{
 "cells": [
  {
   "cell_type": "code",
   "execution_count": 1,
   "metadata": {
    "collapsed": false,
    "jupyter": {
     "outputs_hidden": false
    },
    "pycharm": {
     "name": "#%%\n"
    }
   },
   "outputs": [],
   "source": [
    "import pandas as pd\n",
    "import re"
   ]
  },
  {
   "cell_type": "code",
   "execution_count": 2,
   "metadata": {},
   "outputs": [],
   "source": [
    "import seaborn as sns\n",
    "from matplotlib import pyplot as plt\n",
    "from sklearn.metrics import f1_score, confusion_matrix\n",
    "import tensorflow as tf\n",
    "import tensorflow_text as text"
   ]
  },
  {
   "cell_type": "code",
   "execution_count": 3,
   "metadata": {},
   "outputs": [],
   "source": [
    "import tensorflow_hub as hub"
   ]
  },
  {
   "cell_type": "code",
   "execution_count": 4,
   "metadata": {},
   "outputs": [],
   "source": [
    "train = pd.read_csv(\"data/train.csv\")\n",
    "test = pd.read_csv(\"data/test.csv\")\n",
    "val = pd.read_csv(\"data/valid.csv\")"
   ]
  },
  {
   "cell_type": "code",
   "execution_count": 5,
   "metadata": {
    "collapsed": false,
    "jupyter": {
     "outputs_hidden": false
    },
    "pycharm": {
     "name": "#%%\n"
    }
   },
   "outputs": [],
   "source": [
    "def build_classifier_model(number_classes):\n",
    "    text_input = tf.keras.layers.Input(shape=(), dtype=tf.string, name='text')\n",
    "    preprocessing_layer = hub.KerasLayer(tfhub_handle_preprocess, name='preprocessing')\n",
    "    encoder_inputs = preprocessing_layer(text_input)\n",
    "    encoder = hub.KerasLayer(tfhub_handle_encoder, trainable=True, name='BERT_encoder')\n",
    "    outputs = encoder(encoder_inputs)\n",
    "    net = outputs['pooled_output']\n",
    "    net = tf.keras.layers.Dropout(0.1)(net)\n",
    "    net = tf.keras.layers.Dense(number_classes, activation='softmax', name='classifier')(net)\n",
    "    return tf.keras.Model(text_input, net)"
   ]
  },
  {
   "cell_type": "code",
   "execution_count": 6,
   "metadata": {
    "collapsed": false,
    "jupyter": {
     "outputs_hidden": false
    },
    "pycharm": {
     "name": "#%%\n"
    }
   },
   "outputs": [],
   "source": [
    "def execute_model(X_train, y_train, X_test, y_test, epochs):\n",
    "\n",
    "    #we use label encoding to convert text labels to numeric, we go from ineffective -> 0 for example\n",
    "\n",
    "\n",
    "    #we then need to convert the values to tensors, ensuring that the values are converted to strings.\n",
    "    X_train = tf.convert_to_tensor(X_train.map(str))\n",
    "    y_train = tf.convert_to_tensor(y_train)\n",
    "    X_test = tf.convert_to_tensor(X_test.map(str))\n",
    "    y_test = tf.convert_to_tensor(y_test)\n",
    "\n",
    "    #extract the number of classes\n",
    "    number_classes = len(set(y_train.numpy()))\n",
    "\n",
    "    #build the model\n",
    "    classifier_model = build_classifier_model(number_classes)\n",
    "    #we use adam optimizer, as it is an industry standard, and the loss as sparse categorical crossentropy, as our labels are not one-hot encoded.\n",
    "    classifier_model.compile(optimizer=\"adam\",\n",
    "                            loss='sparse_categorical_crossentropy',\n",
    "                            metrics=['acc'])\n",
    "\n",
    "    #we can then train the model\n",
    "    print(f'Training model:')\n",
    "    history = classifier_model.fit(X_train, y_train,\n",
    "                               epochs=epochs)\n",
    "\n",
    "    #evaluate the model\n",
    "    print(\"Evaluating accuracy:\")\n",
    "    loss, accuracy = classifier_model.evaluate(X_test, y_test)\n",
    "\n",
    "    print(f'Loss: {loss}')\n",
    "    print(f'Accuracy: {accuracy}')\n",
    "\n",
    "    #predict for the test data\n",
    "    prediction = classifier_model.predict(X_test)\n",
    "    y_pred = []\n",
    "    for class_pos in prediction.argmax(axis=1):\n",
    "        y_pred.append(class_pos)\n",
    "\n",
    "\n",
    "    #show the f1 score and confusion matrix\n",
    "    print(f\"weighted f1-score:{f1_score(y_test, y_pred, average='weighted')}\")\n",
    "\n",
    "    cm = confusion_matrix(y_test, y_pred)\n",
    "    df_cm = pd.DataFrame(cm)\n",
    "    plt.figure(figsize = (10,7))\n",
    "    fig = sns.heatmap(df_cm, annot=True, fmt='g')\n",
    "    fig.set(xlabel='Predicted', ylabel='Actual')"
   ]
  },
  {
   "cell_type": "markdown",
   "metadata": {},
   "source": [
    "# BERT"
   ]
  },
  {
   "cell_type": "code",
   "execution_count": 7,
   "metadata": {
    "collapsed": false,
    "jupyter": {
     "outputs_hidden": false
    },
    "pycharm": {
     "name": "#%%\n"
    }
   },
   "outputs": [
    {
     "name": "stdout",
     "output_type": "stream",
     "text": [
      "BERT model selected           : https://tfhub.dev/tensorflow/small_bert/bert_en_uncased_L-2_H-128_A-2/1\n",
      "Preprocess model auto-selected: https://tfhub.dev/tensorflow/bert_en_uncased_preprocess/3\n"
     ]
    },
    {
     "name": "stderr",
     "output_type": "stream",
     "text": [
      "2022-02-01 14:13:16.467499: I tensorflow/stream_executor/cuda/cuda_gpu_executor.cc:939] successful NUMA node read from SysFS had negative value (-1), but there must be at least one NUMA node, so returning NUMA node zero\n",
      "2022-02-01 14:13:16.472135: W tensorflow/stream_executor/platform/default/dso_loader.cc:64] Could not load dynamic library 'libcusolver.so.11'; dlerror: libcusolver.so.11: cannot open shared object file: No such file or directory\n",
      "2022-02-01 14:13:16.474370: W tensorflow/stream_executor/platform/default/dso_loader.cc:64] Could not load dynamic library 'libcudnn.so.8'; dlerror: libcudnn.so.8: cannot open shared object file: No such file or directory\n",
      "2022-02-01 14:13:16.474417: W tensorflow/core/common_runtime/gpu/gpu_device.cc:1850] Cannot dlopen some GPU libraries. Please make sure the missing libraries mentioned above are installed properly if you would like to use GPU. Follow the guide at https://www.tensorflow.org/install/gpu for how to download and setup the required libraries for your platform.\n",
      "Skipping registering GPU devices...\n",
      "2022-02-01 14:13:16.475646: I tensorflow/core/platform/cpu_feature_guard.cc:151] This TensorFlow binary is optimized with oneAPI Deep Neural Network Library (oneDNN) to use the following CPU instructions in performance-critical operations:  AVX2 FMA\n",
      "To enable them in other operations, rebuild TensorFlow with the appropriate compiler flags.\n"
     ]
    }
   ],
   "source": [
    "bert_model_name = 'small_bert/bert_en_uncased_L-2_H-128_A-2'\n",
    "\n",
    "map_name_to_handle = {\n",
    "    'small_bert/bert_en_uncased_L-2_H-128_A-2':\n",
    "        'https://tfhub.dev/tensorflow/small_bert/bert_en_uncased_L-2_H-128_A-2/1',\n",
    "}\n",
    "\n",
    "map_model_to_preprocess = {\n",
    "    'small_bert/bert_en_uncased_L-2_H-128_A-2':\n",
    "        'https://tfhub.dev/tensorflow/bert_en_uncased_preprocess/3',\n",
    "}\n",
    "\n",
    "tfhub_handle_encoder = map_name_to_handle[bert_model_name]\n",
    "tfhub_handle_preprocess = map_model_to_preprocess[bert_model_name]\n",
    "\n",
    "print(f'BERT model selected           : {tfhub_handle_encoder}')\n",
    "print(f'Preprocess model auto-selected: {tfhub_handle_preprocess}')\n",
    "bert_preprocess_model = hub.KerasLayer(tfhub_handle_preprocess)\n",
    "bert_model = hub.KerasLayer(tfhub_handle_encoder)"
   ]
  },
  {
   "cell_type": "code",
   "execution_count": 8,
   "metadata": {},
   "outputs": [],
   "source": [
    "X_train, y_train = train.clean_text, train.label\n",
    "X_test, y_test = test.clean_text, test.label"
   ]
  },
  {
   "cell_type": "code",
   "execution_count": 9,
   "metadata": {},
   "outputs": [
    {
     "name": "stdout",
     "output_type": "stream",
     "text": [
      "Training model:\n",
      "Epoch 1/5\n",
      "102/102 [==============================] - 50s 441ms/step - loss: 1.0689 - acc: 0.5723\n",
      "Epoch 2/5\n",
      "102/102 [==============================] - 42s 409ms/step - loss: 0.5746 - acc: 0.8038\n",
      "Epoch 3/5\n",
      "102/102 [==============================] - 42s 414ms/step - loss: 0.3327 - acc: 0.8962\n",
      "Epoch 4/5\n",
      "102/102 [==============================] - 42s 413ms/step - loss: 0.1887 - acc: 0.9407\n",
      "Epoch 5/5\n",
      "102/102 [==============================] - 42s 416ms/step - loss: 0.1169 - acc: 0.9607\n",
      "Evaluating accuracy:\n",
      "45/45 [==============================] - 6s 126ms/step - loss: 1.2331 - acc: 0.6958\n",
      "Loss: 1.233130931854248\n",
      "Accuracy: 0.6957746744155884\n",
      "weighted f1-score:0.6977170717673256\n"
     ]
    },
    {
     "data": {
      "image/png": "[encoded data removed]",
      "text/plain": [
       "<Figure size 720x504 with 2 Axes>"
      ]
     },
     "metadata": {
      "needs_background": "light"
     },
     "output_type": "display_data"
    }
   ],
   "source": [
    "execute_model(X_train, y_train, X_test, y_test, 5)"
   ]
  },
  {
   "cell_type": "markdown",
   "metadata": {},
   "source": [
    "## Roberta"
   ]
  },
  {
   "cell_type": "code",
   "execution_count": 10,
   "metadata": {
    "collapsed": false,
    "jupyter": {
     "outputs_hidden": false
    },
    "pycharm": {
     "name": "#%%\n"
    }
   },
   "outputs": [
    {
     "name": "stderr",
     "output_type": "stream",
     "text": [
      "2022-02-01 14:17:36.374158: I external/com_google_sentencepiece/src/normalizer.cc:51] precompiled_charsmap is empty. use identity normalization.\n",
      "2022-02-01 14:18:59.953685: W tensorflow/core/framework/cpu_allocator_impl.cc:82] Allocation of 205885440 exceeds 10% of free system memory.\n"
     ]
    }
   ],
   "source": [
    "robert_preprocess_model = hub.KerasLayer(\"https://tfhub.dev/jeongukjae/roberta_en_cased_preprocess/1\")\n",
    "\n",
    "robert_model = hub.KerasLayer(\"https://tfhub.dev/jeongukjae/roberta_en_cased_L-24_H-1024_A-16/1\", trainable=True)"
   ]
  },
  {
   "cell_type": "code",
   "execution_count": 11,
   "metadata": {
    "collapsed": false,
    "jupyter": {
     "outputs_hidden": false
    },
    "pycharm": {
     "name": "#%%\n"
    }
   },
   "outputs": [
    {
     "name": "stdout",
     "output_type": "stream",
     "text": [
      "Training model:\n",
      "Epoch 1/5\n",
      "102/102 [==============================] - 47s 417ms/step - loss: 1.0689 - acc: 0.5536\n",
      "Epoch 2/5\n",
      "102/102 [==============================] - 42s 408ms/step - loss: 0.6265 - acc: 0.7820\n",
      "Epoch 3/5\n",
      "102/102 [==============================] - 44s 429ms/step - loss: 0.4049 - acc: 0.8631\n",
      "Epoch 4/5\n",
      "102/102 [==============================] - 44s 436ms/step - loss: 0.2558 - acc: 0.9143\n",
      "Epoch 5/5\n",
      "102/102 [==============================] - 40s 395ms/step - loss: 0.1657 - acc: 0.9450\n",
      "Evaluating accuracy:\n",
      "45/45 [==============================] - 4s 83ms/step - loss: 1.2108 - acc: 0.6704\n",
      "Loss: 1.2107940912246704\n",
      "Accuracy: 0.6704225540161133\n",
      "weighted f1-score:0.6686625197425439\n"
     ]
    },
    {
     "data": {
      "image/png": "[encoded data removed]",
      "text/plain": [
       "<Figure size 720x504 with 2 Axes>"
      ]
     },
     "metadata": {
      "needs_background": "light"
     },
     "output_type": "display_data"
    }
   ],
   "source": [
    "X_train, y_train = train.clean_text, train.label\n",
    "X_test, y_test = test.clean_text, test.label\n",
    "execute_model(X_train, y_train, X_test, y_test, 5)"
   ]
  },
  {
   "cell_type": "code",
   "execution_count": null,
   "metadata": {},
   "outputs": [],
   "source": []
  },
  {
   "cell_type": "code",
   "execution_count": null,
   "metadata": {},
   "outputs": [],
   "source": []
  }
 ],
 "metadata": {
  "kernelspec": {
   "display_name": "Python 3 (ipykernel)",
   "language": "python",
   "name": "python3"
  },
  "language_info": {
   "codemirror_mode": {
    "name": "ipython",
    "version": 3
   },
   "file_extension": ".py",
   "mimetype": "text/x-python",
   "name": "python",
   "nbconvert_exporter": "python",
   "pygments_lexer": "ipython3",
   "version": "3.9.7"
  }
 },
 "nbformat": 4,
 "nbformat_minor": 4
}
