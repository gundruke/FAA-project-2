{
 "cells": [
  {
   "cell_type": "code",
   "execution_count": 1,
   "metadata": {},
   "outputs": [],
   "source": [
    "# https://www.analyticsvidhya.com/blog/2020/01/first-text-classification-in-pytorch/"
   ]
  },
  {
   "cell_type": "code",
   "execution_count": 2,
   "metadata": {},
   "outputs": [],
   "source": [
    "import time"
   ]
  },
  {
   "cell_type": "code",
   "execution_count": 3,
   "metadata": {},
   "outputs": [],
   "source": [
    "import re\n",
    "import pandas as pd\n",
    "from sklearn.utils import shuffle\n",
    "import seaborn as sns\n",
    "from matplotlib import pyplot as plt\n",
    "from nltk.corpus import stopwords"
   ]
  },
  {
   "cell_type": "code",
   "execution_count": 4,
   "metadata": {},
   "outputs": [],
   "source": [
    "import torch\n",
    "import torch.nn as nn\n",
    "import torch.optim as optim\n",
    "from torchtext.legacy import data"
   ]
  },
  {
   "cell_type": "code",
   "execution_count": 5,
   "metadata": {},
   "outputs": [],
   "source": [
    "def loader(file, is_number = False):\n",
    "    data = []\n",
    "    with open(file, encoding=\"utf8\") as my_file:\n",
    "        data = my_file.read().splitlines()\n",
    "    if is_number:\n",
    "        data = [int(i) for i in data]\n",
    "    return data"
   ]
  },
  {
   "cell_type": "code",
   "execution_count": 6,
   "metadata": {},
   "outputs": [],
   "source": [
    "test_data = loader(\"data/test_text.txt\")\n",
    "test_labels = loader(\"data/test_labels.txt\", True)\n",
    "val_data = loader(\"data/val_text.txt\")\n",
    "val_labels = loader(\"data/val_labels.txt\", True)\n",
    "train_data = loader(\"data/train_text.txt\")\n",
    "train_labels = loader(\"data/train_labels.txt\", True)\n",
    "mappings = {0:\"anger\", 1:\"joy\", 2:\"optimism\",3:\t\"sadness\"}"
   ]
  },
  {
   "cell_type": "code",
   "execution_count": 7,
   "metadata": {},
   "outputs": [],
   "source": [
    "df_test = pd.DataFrame({\"text\":test_data, \"target\":test_labels, \"emotion\":[mappings[i] for i in test_labels]})\n",
    "df_val = pd.DataFrame({\"text\":val_data, \"target\":val_labels, \"emotion\":[mappings[i] for i in val_labels]})\n",
    "df_train = pd.DataFrame({\"text\":train_data, \"target\":train_labels, \"emotion\":[mappings[i] for i in train_labels]})"
   ]
  },
  {
   "cell_type": "code",
   "execution_count": 61,
   "metadata": {},
   "outputs": [],
   "source": [
    "df = pd.concat([df_train, df_test, df_val])"
   ]
  },
  {
   "cell_type": "code",
   "execution_count": 62,
   "metadata": {},
   "outputs": [],
   "source": [
    "df = shuffle(df).reset_index(drop=True)"
   ]
  },
  {
   "cell_type": "code",
   "execution_count": 63,
   "metadata": {},
   "outputs": [
    {
     "data": {
      "text/html": [
       "<div>\n",
       "<style scoped>\n",
       "    .dataframe tbody tr th:only-of-type {\n",
       "        vertical-align: middle;\n",
       "    }\n",
       "\n",
       "    .dataframe tbody tr th {\n",
       "        vertical-align: top;\n",
       "    }\n",
       "\n",
       "    .dataframe thead th {\n",
       "        text-align: right;\n",
       "    }\n",
       "</style>\n",
       "<table border=\"1\" class=\"dataframe\">\n",
       "  <thead>\n",
       "    <tr style=\"text-align: right;\">\n",
       "      <th></th>\n",
       "      <th>text</th>\n",
       "      <th>target</th>\n",
       "      <th>emotion</th>\n",
       "    </tr>\n",
       "  </thead>\n",
       "  <tbody>\n",
       "    <tr>\n",
       "      <th>0</th>\n",
       "      <td>us need band together apart nevertrump promote...</td>\n",
       "      <td>0</td>\n",
       "      <td>anger</td>\n",
       "    </tr>\n",
       "    <tr>\n",
       "      <th>1</th>\n",
       "      <td>bain life drive cash point shop change pound c...</td>\n",
       "      <td>0</td>\n",
       "      <td>anger</td>\n",
       "    </tr>\n",
       "    <tr>\n",
       "      <th>2</th>\n",
       "      <td>clearly appreciate sub-harmonics -one</td>\n",
       "      <td>1</td>\n",
       "      <td>joy</td>\n",
       "    </tr>\n",
       "    <tr>\n",
       "      <th>3</th>\n",
       "      <td>honestly know i'm unhappy time want stop itnev...</td>\n",
       "      <td>3</td>\n",
       "      <td>sadness</td>\n",
       "    </tr>\n",
       "    <tr>\n",
       "      <th>4</th>\n",
       "      <td>sleep cooties ni close eyes dream i'm awake we...</td>\n",
       "      <td>3</td>\n",
       "      <td>sadness</td>\n",
       "    </tr>\n",
       "    <tr>\n",
       "      <th>...</th>\n",
       "      <td>...</td>\n",
       "      <td>...</td>\n",
       "      <td>...</td>\n",
       "    </tr>\n",
       "    <tr>\n",
       "      <th>5046</th>\n",
       "      <td>user yeah heart evil speech reflected says lot...</td>\n",
       "      <td>0</td>\n",
       "      <td>anger</td>\n",
       "    </tr>\n",
       "    <tr>\n",
       "      <th>5047</th>\n",
       "      <td>gadot please put left turn signal williams iva...</td>\n",
       "      <td>0</td>\n",
       "      <td>anger</td>\n",
       "    </tr>\n",
       "    <tr>\n",
       "      <th>5048</th>\n",
       "      <td>kayaking merriment together sevylor inflatable...</td>\n",
       "      <td>1</td>\n",
       "      <td>joy</td>\n",
       "    </tr>\n",
       "    <tr>\n",
       "      <th>5049</th>\n",
       "      <td>user charlotteprotest u wait facts video u hat...</td>\n",
       "      <td>3</td>\n",
       "      <td>sadness</td>\n",
       "    </tr>\n",
       "    <tr>\n",
       "      <th>5050</th>\n",
       "      <td>everything see american police training seems ...</td>\n",
       "      <td>0</td>\n",
       "      <td>anger</td>\n",
       "    </tr>\n",
       "  </tbody>\n",
       "</table>\n",
       "<p>5051 rows × 3 columns</p>\n",
       "</div>"
      ],
      "text/plain": [
       "                                                   text  target  emotion\n",
       "0     us need band together apart nevertrump promote...       0    anger\n",
       "1     bain life drive cash point shop change pound c...       0    anger\n",
       "2                 clearly appreciate sub-harmonics -one       1      joy\n",
       "3     honestly know i'm unhappy time want stop itnev...       3  sadness\n",
       "4     sleep cooties ni close eyes dream i'm awake we...       3  sadness\n",
       "...                                                 ...     ...      ...\n",
       "5046  user yeah heart evil speech reflected says lot...       0    anger\n",
       "5047  gadot please put left turn signal williams iva...       0    anger\n",
       "5048  kayaking merriment together sevylor inflatable...       1      joy\n",
       "5049  user charlotteprotest u wait facts video u hat...       3  sadness\n",
       "5050  everything see american police training seems ...       0    anger\n",
       "\n",
       "[5051 rows x 3 columns]"
      ]
     },
     "execution_count": 63,
     "metadata": {},
     "output_type": "execute_result"
    }
   ],
   "source": [
    "df"
   ]
  },
  {
   "cell_type": "code",
   "execution_count": 64,
   "metadata": {},
   "outputs": [],
   "source": [
    "df.to_csv(\"data/data_all.csv\", index=False)"
   ]
  },
  {
   "cell_type": "code",
   "execution_count": null,
   "metadata": {},
   "outputs": [],
   "source": []
  },
  {
   "cell_type": "code",
   "execution_count": null,
   "metadata": {},
   "outputs": [],
   "source": []
  },
  {
   "cell_type": "code",
   "execution_count": null,
   "metadata": {},
   "outputs": [],
   "source": []
  },
  {
   "cell_type": "code",
   "execution_count": 12,
   "metadata": {},
   "outputs": [
    {
     "data": {
      "text/html": [
       "<div>\n",
       "<style scoped>\n",
       "    .dataframe tbody tr th:only-of-type {\n",
       "        vertical-align: middle;\n",
       "    }\n",
       "\n",
       "    .dataframe tbody tr th {\n",
       "        vertical-align: top;\n",
       "    }\n",
       "\n",
       "    .dataframe thead th {\n",
       "        text-align: right;\n",
       "    }\n",
       "</style>\n",
       "<table border=\"1\" class=\"dataframe\">\n",
       "  <thead>\n",
       "    <tr style=\"text-align: right;\">\n",
       "      <th></th>\n",
       "      <th>text</th>\n",
       "      <th>target</th>\n",
       "      <th>emotion</th>\n",
       "    </tr>\n",
       "  </thead>\n",
       "  <tbody>\n",
       "    <tr>\n",
       "      <th>0</th>\n",
       "      <td>#Deppression is real. Partners w/ #depressed p...</td>\n",
       "      <td>3</td>\n",
       "      <td>sadness</td>\n",
       "    </tr>\n",
       "    <tr>\n",
       "      <th>1</th>\n",
       "      <td>@user Interesting choice of words... Are you c...</td>\n",
       "      <td>0</td>\n",
       "      <td>anger</td>\n",
       "    </tr>\n",
       "    <tr>\n",
       "      <th>2</th>\n",
       "      <td>My visit to hospital for care triggered #traum...</td>\n",
       "      <td>3</td>\n",
       "      <td>sadness</td>\n",
       "    </tr>\n",
       "    <tr>\n",
       "      <th>3</th>\n",
       "      <td>@user Welcome to #MPSVT! We are delighted to h...</td>\n",
       "      <td>1</td>\n",
       "      <td>joy</td>\n",
       "    </tr>\n",
       "    <tr>\n",
       "      <th>4</th>\n",
       "      <td>What makes you feel #joyful?</td>\n",
       "      <td>1</td>\n",
       "      <td>joy</td>\n",
       "    </tr>\n",
       "  </tbody>\n",
       "</table>\n",
       "</div>"
      ],
      "text/plain": [
       "                                                text  target  emotion\n",
       "0  #Deppression is real. Partners w/ #depressed p...       3  sadness\n",
       "1  @user Interesting choice of words... Are you c...       0    anger\n",
       "2  My visit to hospital for care triggered #traum...       3  sadness\n",
       "3  @user Welcome to #MPSVT! We are delighted to h...       1      joy\n",
       "4                      What makes you feel #joyful?        1      joy"
      ]
     },
     "execution_count": 12,
     "metadata": {},
     "output_type": "execute_result"
    }
   ],
   "source": [
    "df_test.head()"
   ]
  },
  {
   "cell_type": "code",
   "execution_count": 13,
   "metadata": {},
   "outputs": [
    {
     "data": {
      "text/html": [
       "<div>\n",
       "<style scoped>\n",
       "    .dataframe tbody tr th:only-of-type {\n",
       "        vertical-align: middle;\n",
       "    }\n",
       "\n",
       "    .dataframe tbody tr th {\n",
       "        vertical-align: top;\n",
       "    }\n",
       "\n",
       "    .dataframe thead th {\n",
       "        text-align: right;\n",
       "    }\n",
       "</style>\n",
       "<table border=\"1\" class=\"dataframe\">\n",
       "  <thead>\n",
       "    <tr style=\"text-align: right;\">\n",
       "      <th></th>\n",
       "      <th>text</th>\n",
       "      <th>target</th>\n",
       "      <th>emotion</th>\n",
       "    </tr>\n",
       "  </thead>\n",
       "  <tbody>\n",
       "    <tr>\n",
       "      <th>0</th>\n",
       "      <td>@user @user Oh, hidden revenge and anger...I r...</td>\n",
       "      <td>0</td>\n",
       "      <td>anger</td>\n",
       "    </tr>\n",
       "    <tr>\n",
       "      <th>1</th>\n",
       "      <td>if not then #teamchristine bc all tana has don...</td>\n",
       "      <td>0</td>\n",
       "      <td>anger</td>\n",
       "    </tr>\n",
       "    <tr>\n",
       "      <th>2</th>\n",
       "      <td>Hey @user #Fields in #skibbereen give your onl...</td>\n",
       "      <td>0</td>\n",
       "      <td>anger</td>\n",
       "    </tr>\n",
       "    <tr>\n",
       "      <th>3</th>\n",
       "      <td>Why have #Emmerdale had to rob #robron of havi...</td>\n",
       "      <td>0</td>\n",
       "      <td>anger</td>\n",
       "    </tr>\n",
       "    <tr>\n",
       "      <th>4</th>\n",
       "      <td>@user I would like to hear a podcast of you go...</td>\n",
       "      <td>0</td>\n",
       "      <td>anger</td>\n",
       "    </tr>\n",
       "  </tbody>\n",
       "</table>\n",
       "</div>"
      ],
      "text/plain": [
       "                                                text  target emotion\n",
       "0  @user @user Oh, hidden revenge and anger...I r...       0   anger\n",
       "1  if not then #teamchristine bc all tana has don...       0   anger\n",
       "2  Hey @user #Fields in #skibbereen give your onl...       0   anger\n",
       "3  Why have #Emmerdale had to rob #robron of havi...       0   anger\n",
       "4  @user I would like to hear a podcast of you go...       0   anger"
      ]
     },
     "execution_count": 13,
     "metadata": {},
     "output_type": "execute_result"
    }
   ],
   "source": [
    "df_val.head()"
   ]
  },
  {
   "cell_type": "code",
   "execution_count": 14,
   "metadata": {},
   "outputs": [
    {
     "data": {
      "text/html": [
       "<div>\n",
       "<style scoped>\n",
       "    .dataframe tbody tr th:only-of-type {\n",
       "        vertical-align: middle;\n",
       "    }\n",
       "\n",
       "    .dataframe tbody tr th {\n",
       "        vertical-align: top;\n",
       "    }\n",
       "\n",
       "    .dataframe thead th {\n",
       "        text-align: right;\n",
       "    }\n",
       "</style>\n",
       "<table border=\"1\" class=\"dataframe\">\n",
       "  <thead>\n",
       "    <tr style=\"text-align: right;\">\n",
       "      <th></th>\n",
       "      <th>text</th>\n",
       "      <th>target</th>\n",
       "      <th>emotion</th>\n",
       "    </tr>\n",
       "  </thead>\n",
       "  <tbody>\n",
       "    <tr>\n",
       "      <th>0</th>\n",
       "      <td>“Worry is a down payment on a problem you may ...</td>\n",
       "      <td>2</td>\n",
       "      <td>optimism</td>\n",
       "    </tr>\n",
       "    <tr>\n",
       "      <th>1</th>\n",
       "      <td>My roommate: it's okay that we can't spell bec...</td>\n",
       "      <td>0</td>\n",
       "      <td>anger</td>\n",
       "    </tr>\n",
       "    <tr>\n",
       "      <th>2</th>\n",
       "      <td>No but that's so cute. Atsu was probably shy a...</td>\n",
       "      <td>1</td>\n",
       "      <td>joy</td>\n",
       "    </tr>\n",
       "    <tr>\n",
       "      <th>3</th>\n",
       "      <td>Rooneys fucking untouchable isn't he? Been fuc...</td>\n",
       "      <td>0</td>\n",
       "      <td>anger</td>\n",
       "    </tr>\n",
       "    <tr>\n",
       "      <th>4</th>\n",
       "      <td>it's pretty depressing when u hit pan on ur fa...</td>\n",
       "      <td>3</td>\n",
       "      <td>sadness</td>\n",
       "    </tr>\n",
       "  </tbody>\n",
       "</table>\n",
       "</div>"
      ],
      "text/plain": [
       "                                                text  target   emotion\n",
       "0  “Worry is a down payment on a problem you may ...       2  optimism\n",
       "1  My roommate: it's okay that we can't spell bec...       0     anger\n",
       "2  No but that's so cute. Atsu was probably shy a...       1       joy\n",
       "3  Rooneys fucking untouchable isn't he? Been fuc...       0     anger\n",
       "4  it's pretty depressing when u hit pan on ur fa...       3   sadness"
      ]
     },
     "execution_count": 14,
     "metadata": {},
     "output_type": "execute_result"
    }
   ],
   "source": [
    "df_train.head()"
   ]
  },
  {
   "cell_type": "code",
   "execution_count": 15,
   "metadata": {},
   "outputs": [],
   "source": [
    "for txt in df_train[\"text\"]:\n",
    "    if len(txt)<1:\n",
    "        print(\"SHIT\")\n",
    "        print(txt)"
   ]
  },
  {
   "cell_type": "code",
   "execution_count": null,
   "metadata": {},
   "outputs": [],
   "source": []
  },
  {
   "cell_type": "code",
   "execution_count": 16,
   "metadata": {},
   "outputs": [
    {
     "data": {
      "text/plain": [
       "anger       1400\n",
       "sadness      855\n",
       "joy          708\n",
       "optimism     294\n",
       "Name: emotion, dtype: int64"
      ]
     },
     "execution_count": 16,
     "metadata": {},
     "output_type": "execute_result"
    }
   ],
   "source": [
    "df_train[\"emotion\"].value_counts()"
   ]
  },
  {
   "cell_type": "code",
   "execution_count": 17,
   "metadata": {},
   "outputs": [
    {
     "data": {
      "image/png": "[encoded data removed]",
      "text/plain": [
       "<Figure size 432x288 with 1 Axes>"
      ]
     },
     "metadata": {
      "needs_background": "light"
     },
     "output_type": "display_data"
    }
   ],
   "source": [
    "ax = sns.countplot(x=\"emotion\", data=df_train)\n",
    "ax.set_title(\"Value count of each label on Train dataset\")\n",
    "plt.show()"
   ]
  },
  {
   "cell_type": "code",
   "execution_count": 18,
   "metadata": {},
   "outputs": [
    {
     "data": {
      "image/png": "[encoded data removed]",
      "text/plain": [
       "<Figure size 432x288 with 1 Axes>"
      ]
     },
     "metadata": {
      "needs_background": "light"
     },
     "output_type": "display_data"
    }
   ],
   "source": [
    "ax = sns.countplot(x=\"emotion\", data=df_test)\n",
    "ax.set_title(\"Value count of each label on Test dataset\")\n",
    "plt.show()"
   ]
  },
  {
   "cell_type": "code",
   "execution_count": 19,
   "metadata": {},
   "outputs": [
    {
     "data": {
      "image/png": "[encoded data removed]",
      "text/plain": [
       "<Figure size 432x288 with 1 Axes>"
      ]
     },
     "metadata": {
      "needs_background": "light"
     },
     "output_type": "display_data"
    }
   ],
   "source": [
    "ax = sns.countplot(x=\"emotion\", data=df_val)\n",
    "ax.set_title(\"Value count of each label on Valid dataset\")\n",
    "plt.show()"
   ]
  },
  {
   "cell_type": "code",
   "execution_count": 20,
   "metadata": {},
   "outputs": [],
   "source": [
    "def print_sample_text(df, count):\n",
    "    for index in range(count):\n",
    "        print(df[\"text\"][index])"
   ]
  },
  {
   "cell_type": "code",
   "execution_count": 21,
   "metadata": {},
   "outputs": [
    {
     "name": "stdout",
     "output_type": "stream",
     "text": [
      "“Worry is a down payment on a problem you may never have'.  Joyce Meyer.  #motivation #leadership #worry \n",
      "My roommate: it's okay that we can't spell because we have autocorrect. #terrible #firstworldprobs \n",
      "No but that's so cute. Atsu was probably shy about photos before but cherry helped her out uwu \n",
      "Rooneys fucking untouchable isn't he? Been fucking dreadful again, depay has looked decent(ish)tonight \n",
      "it's pretty depressing when u hit pan on ur favourite highlighter \n",
      "@user but your pussy was weak from what I heard so stfu up to me bitch . You got to threaten him that your pregnant . \n",
      "Making that yearly transition from excited and hopeful college returner to sick and exhausted pessimist. #college \n",
      "Tiller and breezy should do a collab album. Rapping and singing prolly be fire \n",
      "@user broadband is shocking regretting signing up now #angry #shouldofgonewithvirgin \n",
      "@user Look at those teef! #growl \n"
     ]
    }
   ],
   "source": [
    "print_sample_text(df_train, 10)"
   ]
  },
  {
   "cell_type": "code",
   "execution_count": 22,
   "metadata": {},
   "outputs": [],
   "source": [
    "ONLY_KEEP_ALPHA_SPACE = re.compile(\"[^a-zA-Z-' ]\")\n",
    "STOPWORDS = set(stopwords.words('english'))\n",
    "\n",
    "def preprocess_text(text):\n",
    "    # lowercase text\n",
    "    text = text.lower() \n",
    "    # replace REPLACE_BY_SPACE_RE symbols by space in text. \n",
    "    # substitute the matched string in REPLACE_BY_SPACE_RE with space.\n",
    "    text = ONLY_KEEP_ALPHA_SPACE.sub(' ', text)\n",
    "    # multiple spaces with single space\n",
    "    text = re.sub(' +', ' ', text)\n",
    "    # remove stopwors from text\n",
    "    text = ' '.join(word for word in text.split() if word not in STOPWORDS)\n",
    "    return text"
   ]
  },
  {
   "cell_type": "code",
   "execution_count": 23,
   "metadata": {},
   "outputs": [],
   "source": [
    "df_train['text'] = df_train['text'].apply(preprocess_text)\n",
    "df_test['text'] = df_test['text'].apply(preprocess_text)\n",
    "df_val['text'] = df_val['text'].apply(preprocess_text)"
   ]
  },
  {
   "cell_type": "code",
   "execution_count": 24,
   "metadata": {},
   "outputs": [
    {
     "name": "stdout",
     "output_type": "stream",
     "text": [
      "worry payment problem may never have' joyce meyer motivation leadership worry\n",
      "roommate okay can't spell autocorrect terrible firstworldprobs\n",
      "that's cute atsu probably shy photos cherry helped uwu\n",
      "rooneys fucking untouchable fucking dreadful depay looked decent ish tonight\n",
      "pretty depressing u hit pan ur favourite highlighter\n",
      "user pussy weak heard stfu bitch got threaten pregnant\n",
      "making yearly transition excited hopeful college returner sick exhausted pessimist college\n",
      "tiller breezy collab album rapping singing prolly fire\n",
      "user broadband shocking regretting signing angry shouldofgonewithvirgin\n",
      "user look teef growl\n"
     ]
    }
   ],
   "source": [
    "print_sample_text(df_train, 10)"
   ]
  },
  {
   "cell_type": "code",
   "execution_count": 25,
   "metadata": {},
   "outputs": [],
   "source": [
    "df_train = df_train[df_train[\"text\"].str.len() > 0].reset_index(drop=True)\n",
    "df_val = df_val[df_val[\"text\"].str.len() > 0].reset_index(drop=True)"
   ]
  },
  {
   "cell_type": "code",
   "execution_count": 26,
   "metadata": {},
   "outputs": [],
   "source": [
    "#Reproducing same results\n",
    "SEED = 2019\n",
    "#Torch\n",
    "torch.manual_seed(SEED)\n",
    "#Cuda algorithms\n",
    "torch.backends.cudnn.deterministic = True  "
   ]
  },
  {
   "cell_type": "code",
   "execution_count": 27,
   "metadata": {
    "scrolled": true,
    "tags": []
   },
   "outputs": [
    {
     "name": "stdout",
     "output_type": "stream",
     "text": [
      "Requirement already satisfied: en-core-web-sm==3.0.0 from https://github.com/explosion/spacy-models/releases/download/en_core_web_sm-3.0.0/en_core_web_sm-3.0.0-py3-none-any.whl#egg=en_core_web_sm==3.0.0 in /home/gundruke/anaconda3/lib/python3.8/site-packages (3.0.0)\n",
      "Requirement already satisfied: spacy<3.1.0,>=3.0.0 in /home/gundruke/anaconda3/lib/python3.8/site-packages (from en-core-web-sm==3.0.0) (3.0.5)\n",
      "Requirement already satisfied: preshed<3.1.0,>=3.0.2 in /home/gundruke/anaconda3/lib/python3.8/site-packages (from spacy<3.1.0,>=3.0.0->en-core-web-sm==3.0.0) (3.0.5)\n",
      "Requirement already satisfied: thinc<8.1.0,>=8.0.2 in /home/gundruke/anaconda3/lib/python3.8/site-packages (from spacy<3.1.0,>=3.0.0->en-core-web-sm==3.0.0) (8.0.2)\n",
      "Requirement already satisfied: setuptools in /home/gundruke/anaconda3/lib/python3.8/site-packages (from spacy<3.1.0,>=3.0.0->en-core-web-sm==3.0.0) (57.5.0)\n",
      "Requirement already satisfied: tqdm<5.0.0,>=4.38.0 in /home/gundruke/anaconda3/lib/python3.8/site-packages (from spacy<3.1.0,>=3.0.0->en-core-web-sm==3.0.0) (4.50.2)\n",
      "Requirement already satisfied: typer<0.4.0,>=0.3.0 in /home/gundruke/anaconda3/lib/python3.8/site-packages (from spacy<3.1.0,>=3.0.0->en-core-web-sm==3.0.0) (0.3.2)\n",
      "Requirement already satisfied: wasabi<1.1.0,>=0.8.1 in /home/gundruke/anaconda3/lib/python3.8/site-packages (from spacy<3.1.0,>=3.0.0->en-core-web-sm==3.0.0) (0.8.2)\n",
      "Requirement already satisfied: srsly<3.0.0,>=2.4.0 in /home/gundruke/anaconda3/lib/python3.8/site-packages (from spacy<3.1.0,>=3.0.0->en-core-web-sm==3.0.0) (2.4.0)\n",
      "Requirement already satisfied: murmurhash<1.1.0,>=0.28.0 in /home/gundruke/anaconda3/lib/python3.8/site-packages (from spacy<3.1.0,>=3.0.0->en-core-web-sm==3.0.0) (1.0.5)\n",
      "Requirement already satisfied: blis<0.8.0,>=0.4.0 in /home/gundruke/anaconda3/lib/python3.8/site-packages (from spacy<3.1.0,>=3.0.0->en-core-web-sm==3.0.0) (0.7.4)\n",
      "Requirement already satisfied: requests<3.0.0,>=2.13.0 in /home/gundruke/.local/lib/python3.8/site-packages (from spacy<3.1.0,>=3.0.0->en-core-web-sm==3.0.0) (2.21.0)\n",
      "Requirement already satisfied: pydantic<1.8.0,>=1.7.1 in /home/gundruke/anaconda3/lib/python3.8/site-packages (from spacy<3.1.0,>=3.0.0->en-core-web-sm==3.0.0) (1.7.3)\n",
      "Requirement already satisfied: pathy>=0.3.5 in /home/gundruke/anaconda3/lib/python3.8/site-packages (from spacy<3.1.0,>=3.0.0->en-core-web-sm==3.0.0) (0.4.0)\n",
      "Requirement already satisfied: packaging>=20.0 in /home/gundruke/anaconda3/lib/python3.8/site-packages (from spacy<3.1.0,>=3.0.0->en-core-web-sm==3.0.0) (20.4)\n",
      "Requirement already satisfied: cymem<2.1.0,>=2.0.2 in /home/gundruke/anaconda3/lib/python3.8/site-packages (from spacy<3.1.0,>=3.0.0->en-core-web-sm==3.0.0) (2.0.5)\n",
      "Requirement already satisfied: numpy>=1.15.0 in /home/gundruke/anaconda3/lib/python3.8/site-packages (from spacy<3.1.0,>=3.0.0->en-core-web-sm==3.0.0) (1.19.5)\n",
      "Requirement already satisfied: catalogue<2.1.0,>=2.0.1 in /home/gundruke/anaconda3/lib/python3.8/site-packages (from spacy<3.1.0,>=3.0.0->en-core-web-sm==3.0.0) (2.0.1)\n",
      "Requirement already satisfied: jinja2 in /home/gundruke/anaconda3/lib/python3.8/site-packages (from spacy<3.1.0,>=3.0.0->en-core-web-sm==3.0.0) (2.11.2)\n",
      "Requirement already satisfied: spacy-legacy<3.1.0,>=3.0.0 in /home/gundruke/anaconda3/lib/python3.8/site-packages (from spacy<3.1.0,>=3.0.0->en-core-web-sm==3.0.0) (3.0.2)\n",
      "Requirement already satisfied: click<7.2.0,>=7.1.1 in /home/gundruke/anaconda3/lib/python3.8/site-packages (from typer<0.4.0,>=0.3.0->spacy<3.1.0,>=3.0.0->en-core-web-sm==3.0.0) (7.1.2)\n",
      "Requirement already satisfied: certifi>=2017.4.17 in /home/gundruke/anaconda3/lib/python3.8/site-packages (from requests<3.0.0,>=2.13.0->spacy<3.1.0,>=3.0.0->en-core-web-sm==3.0.0) (2021.10.8)\n",
      "Requirement already satisfied: idna<2.9,>=2.5 in /home/gundruke/.local/lib/python3.8/site-packages (from requests<3.0.0,>=2.13.0->spacy<3.1.0,>=3.0.0->en-core-web-sm==3.0.0) (2.8)\n",
      "Requirement already satisfied: chardet<3.1.0,>=3.0.2 in /home/gundruke/anaconda3/lib/python3.8/site-packages (from requests<3.0.0,>=2.13.0->spacy<3.1.0,>=3.0.0->en-core-web-sm==3.0.0) (3.0.4)\n",
      "Requirement already satisfied: urllib3<1.25,>=1.21.1 in /home/gundruke/anaconda3/lib/python3.8/site-packages (from requests<3.0.0,>=2.13.0->spacy<3.1.0,>=3.0.0->en-core-web-sm==3.0.0) (1.24.3)\n",
      "Requirement already satisfied: smart-open<4.0.0,>=2.2.0 in /home/gundruke/anaconda3/lib/python3.8/site-packages (from pathy>=0.3.5->spacy<3.1.0,>=3.0.0->en-core-web-sm==3.0.0) (3.0.0)\n",
      "Requirement already satisfied: six in /home/gundruke/anaconda3/lib/python3.8/site-packages (from packaging>=20.0->spacy<3.1.0,>=3.0.0->en-core-web-sm==3.0.0) (1.15.0)\n",
      "Requirement already satisfied: pyparsing>=2.0.2 in /home/gundruke/anaconda3/lib/python3.8/site-packages (from packaging>=20.0->spacy<3.1.0,>=3.0.0->en-core-web-sm==3.0.0) (2.4.7)\n",
      "Requirement already satisfied: MarkupSafe>=0.23 in /home/gundruke/anaconda3/lib/python3.8/site-packages (from jinja2->spacy<3.1.0,>=3.0.0->en-core-web-sm==3.0.0) (1.1.1)\n",
      "\u001b[38;5;2m✔ Download and installation successful\u001b[0m\n",
      "You can now load the package via spacy.load('en_core_web_sm')\n"
     ]
    }
   ],
   "source": [
    "!python -m spacy download en_core_web_sm"
   ]
  },
  {
   "cell_type": "code",
   "execution_count": 28,
   "metadata": {},
   "outputs": [],
   "source": [
    "import spacy\n",
    "nlp = spacy.load(\"en_core_web_sm\")"
   ]
  },
  {
   "cell_type": "code",
   "execution_count": 29,
   "metadata": {},
   "outputs": [
    {
     "name": "stderr",
     "output_type": "stream",
     "text": [
      "/home/gundruke/anaconda3/lib/python3.8/site-packages/torchtext/data/utils.py:123: UserWarning: Spacy model \"en\" could not be loaded, trying \"en_core_web_sm\" instead\n",
      "  warnings.warn(f'Spacy model \"{language}\" could not be loaded, trying \"{OLD_MODEL_SHORTCUTS[language]}\" instead')\n"
     ]
    }
   ],
   "source": [
    "TEXT = data.Field(tokenize='spacy',batch_first=True,include_lengths=True)\n",
    "LABEL = data.LabelField(dtype = torch.float,batch_first=True)"
   ]
  },
  {
   "cell_type": "code",
   "execution_count": 30,
   "metadata": {},
   "outputs": [],
   "source": [
    "# source : https://gist.github.com/lextoumbourou/8f90313cbc3598ffbabeeaa1741a11c8\n",
    "# to use DataFrame as a Data source\n",
    "\n",
    "class DataFrameDataset(data.Dataset):\n",
    "\n",
    "    def __init__(self, df, fields, is_test=False, **kwargs):\n",
    "        examples = []\n",
    "        for i, row in df.iterrows():\n",
    "            label = row.target if not is_test else None\n",
    "            text = row.text\n",
    "            examples.append(data.Example.fromlist([text, label], fields))\n",
    "\n",
    "        super().__init__(examples, fields, **kwargs)\n",
    "\n",
    "    @staticmethod\n",
    "    def sort_key(ex):\n",
    "        return len(ex.text)\n",
    "\n",
    "    @classmethod\n",
    "    def splits(cls, fields, train_df, val_df=None, test_df=None, **kwargs):\n",
    "        train_data, val_data, test_data = (None, None, None)\n",
    "        data_field = fields\n",
    "\n",
    "        if train_df is not None:\n",
    "            train_data = cls(train_df.copy(), data_field, **kwargs)\n",
    "        if val_df is not None:\n",
    "            val_data = cls(val_df.copy(), data_field, **kwargs)\n",
    "        if test_df is not None:\n",
    "            test_data = cls(test_df.copy(), data_field, True, **kwargs)\n",
    "\n",
    "        return tuple(d for d in (train_data, val_data, test_data) if d is not None)"
   ]
  },
  {
   "cell_type": "code",
   "execution_count": 31,
   "metadata": {},
   "outputs": [],
   "source": [
    "fields = [('text',TEXT), ('target',LABEL)]\n",
    "\n",
    "train_ds, val_ds = DataFrameDataset.splits(fields, train_df=df_train, val_df=df_val)"
   ]
  },
  {
   "cell_type": "code",
   "execution_count": 32,
   "metadata": {
    "scrolled": true,
    "tags": []
   },
   "outputs": [
    {
     "name": "stdout",
     "output_type": "stream",
     "text": [
      "Size of TEXT vocabulary: 2105\n",
      "Size of LABEL vocabulary: 4\n",
      "[('user', 2019), ('i', 435), (\"'\", 396), (\"'s\", 291), (\"'m\", 249), ('like', 230), ('-', 209), ('n', 179), ('get', 169), ('amp', 166)]\n",
      "defaultdict(<bound method Vocab._default_unk_index of <torchtext.vocab.Vocab object at 0x7f2c18b98280>>, {'<unk>': 0, '<pad>': 1, 'user': 2, 'i': 3, \"'\": 4, \"'s\": 5, \"'m\": 6, 'like': 7, '-': 8, 'n': 9, 'get': 10, 'amp': 11, 'people': 12, 'one': 13, \"n't\": 14, 'ca': 15, 'know': 16, 'think': 17, 'got': 18, 'u': 19, 'sad': 20, 'would': 21, 'day': 22, 'love': 23, 'really': 24, 'go': 25, 'time': 26, 'even': 27, 'back': 28, 'life': 29, 'want': 30, 'going': 31, 'good': 32, 'still': 33, 'today': 34, \"'ve\": 35, 'someone': 36, 'that': 37, 'depression': 38, 'angry': 39, 'fear': 40, 'feel': 41, 'never': 42, 'see': 43, 'fucking': 44, 'make': 45, 'much': 46, 'lost': 47, 'need': 48, 'watch': 49, 'work': 50, 'new': 51, 'right': 52, 'anger': 53, 'sadness': 54, 'way': 55, \"'ll\": 56, 'let': 57, 'm': 58, 'man': 59, 'terrorism': 60, 'awful': 61, 'anxiety': 62, 'live': 63, 'lol': 64, 'always': 65, 'happy': 66, 'rage': 67, 'us': 68, 'say': 69, 'horrible': 70, 'last': 71, 'bad': 72, 'ever': 73, 'fuming': 74, 'look': 75, 'fuck': 76, 'little': 77, 'nightmare': 78, 'shocking': 79, 'terrible': 80, 'blues': 81, 'stop': 82, 'could': 83, 'he': 84, 'night': 85, 'something': 86, 'amazing': 87, 'bully': 88, 'every': 89, 'getting': 90, 'hilarious': 91, 'depressing': 92, 'find': 93, 'first': 94, 'hate': 95, 'makes': 96, 'terror': 97, 'trump': 98, 'better': 99, 'nt': 100, 'said': 101, 'shit': 102, 'start': 103, 'tell': 104, 'well': 105, 'worst': 106, 'horror': 107, 'outrage': 108, 'things': 109, 'oh': 110, 'old': 111, 'serious': 112, \"'re\": 113, 'away': 114, 'black': 115, 'game': 116, 'trying': 117, 'afraid': 118, 'home': 119, 'nothing': 120, 'smile': 121, 'years': 122, 'face': 123, 'give': 124, 'hell': 125, 'tonight': 126, 'world': 127, 'best': 128, 'bitter': 129, 'worry': 130, 'god': 131, 'great': 132, 'hope': 133, 'made': 134, 'thought': 135, \"'d\": 136, 'also': 137, 'another': 138, 'big': 139, 'hard': 140, 'heart': 141, 'offended': 142, 'revenge': 143, 'thanks': 144, 'they': 145, 'thing': 146, 'year': 147, 'broadcast': 148, 'looking': 149, 'next': 150, 'panic': 151, 'play': 152, 'show': 153, 'wanna': 154, 'war': 155, 'guys': 156, 'literally': 157, 'ly': 158, 'musically': 159, 'pakistan': 160, 'snap': 161, 'take': 162, 'tomorrow': 163, 'wait': 164, 'week': 165, 'furious': 166, 'fury': 167, 'gbbo': 168, 'maybe': 169, 'nervous': 170, 'person': 171, 'please': 172, 'police': 173, 'sorry': 174, 'watching': 175, 'anything': 176, 'come': 177, 'done': 178, 'guy': 179, 'help': 180, 'house': 181, 'many': 182, 'music': 183, 'pretty': 184, 'raging': 185, 'twitter': 186, 'unhappy': 187, 'w': 188, 'feeling': 189, 'girl': 190, 'glee': 191, 'keep': 192, 'long': 193, 'making': 194, 'news': 195, 'phone': 196, 'sadly': 197, 'since': 198, 'there': 199, 'ur': 200, 'wish': 201, 'yet': 202, 'around': 203, 'half': 204, 'lively': 205, 'may': 206, 'na': 207, 'put': 208, 'real': 209, 'service': 210, 'thank': 211, 'two': 212, 'actually': 213, 'already': 214, 'bit': 215, 'burning': 216, 'dark': 217, 'everyone': 218, 'family': 219, 'gon': 220, 'grim': 221, 'seen': 222, 'sober': 223, 'we': 224, 'wrong': 225, 'anyone': 226, 'bc': 227, 'call': 228, 'end': 229, 'gt': 230, 'insult': 231, 'leave': 232, 'left': 233, 'optimism': 234, 'part': 235, 'pout': 236, 'shake': 237, 'sleep': 238, 'talk': 239, 'talking': 240, 'used': 241, 'without': 242, 'wow': 243, 'birthday': 244, 'boiling': 245, 'customer': 246, 'days': 247, 'die': 248, 'do': 249, 'funny': 250, 'gone': 251, 'irritate': 252, 'late': 253, 'looks': 254, 'might': 255, 'remember': 256, 'shy': 257, 'started': 258, 'sure': 259, 'times': 260, 'what': 261, 'white': 262, 'ass': 263, 'despair': 264, 'free': 265, 'job': 266, 'mind': 267, 'miss': 268, 'morning': 269, 'mourn': 270, 'playing': 271, 'seriously': 272, 'sometimes': 273, 'stayed': 274, 'taking': 275, 'team': 276, 'took': 277, 'use': 278, 'whole': 279, 'alarm': 280, 'b': 281, 'dreadful': 282, 'either': 283, 'everything': 284, 'fire': 285, 'shaking': 286, 'though': 287, 'try': 288, 'tv': 289, 'wrath': 290, 'asked': 291, 'awe': 292, 'bb': 293, 'believe': 294, 'country': 295, 'cry': 296, 'enough': 297, 'minutes': 298, 'moment': 299, 'outside': 300, 'quote': 301, 'says': 302, 'season': 303, 'sting': 304, 'tired': 305, 'watched': 306, 'words': 307, 'yeah': 308, 'absolutely': 309, 'attack': 310, 'called': 311, 'care': 312, 'cheer': 313, 'comes': 314, 'follow': 315, 'friends': 316, 'gloomy': 317, 'heard': 318, 'k': 319, 'lose': 320, 'month': 321, 'ok': 322, 'school': 323, 'side': 324, 'truth': 325, 'weary': 326, 'worse': 327, 'animated': 328, 'boy': 329, 'break': 330, 'cause': 331, 'change': 332, 'crying': 333, 'discourage': 334, 'dream': 335, 'else': 336, 'fact': 337, 'found': 338, 'friend': 339, 'future': 340, 'hilarity': 341, 'hit': 342, 'horrific': 343, 'india': 344, 'joke': 345, 'kind': 346, 'least': 347, 'must': 348, 'needs': 349, 'offense': 350, 'okay': 351, 'point': 352, 'problem': 353, 'racism': 354, 'state': 355, 'takes': 356, 'test': 357, 'top': 358, 'turn': 359, 'working': 360, 'yes': 361, '--': 362, 'ask': 363, 'breezy': 364, 'burst': 365, 'died': 366, 'discouraged': 367, 'dull': 368, 'hands': 369, 'haunt': 370, 'head': 371, 'hillary': 372, 'hold': 373, 'hour': 374, 'issues': 375, 'it': 376, 'kid': 377, 'kill': 378, 'kinda': 379, 'laughter': 380, 'lmao': 381, 'lot': 382, 'mean': 383, 'men': 384, 'movie': 385, 'run': 386, 'saying': 387, 'seeing': 388, 'snapchat': 389, 'sunk': 390, 'tears': 391, 'wants': 392, 'yo': 393, 'bored': 394, 'car': 395, 'class': 396, 'close': 397, 'excited': 398, 'feels': 399, 'fiery': 400, 'full': 401, 'fun': 402, 'gets': 403, 'grudge': 404, 'happen': 405, 'happened': 406, 'honestly': 407, 'horrid': 408, 'joyful': 409, 'king': 410, 'mad': 411, 'media': 412, 'money': 413, 'nd': 414, 'offend': 415, 'pay': 416, 'playful': 417, 'relentless': 418, 'saw': 419, 'shot': 420, 'sink': 421, 'sparkling': 422, 'st': 423, 'stuff': 424, 'ta': 425, 'terrorist': 426, 'thinking': 427, 'threaten': 428, 'told': 429, 'true': 430, 'tweet': 431, 'weeks': 432, 'win': 433, 'within': 434, 'woman': 435, 'word': 436, 'alone': 437, 'america': 438, 'body': 439, 'cheering': 440, 'city': 441, 'concern': 442, 'damn': 443, 'death': 444, 'delight': 445, 'evening': 446, 'finally': 447, 'flight': 448, 'front': 449, 'guess': 450, 'hair': 451, 'hear': 452, 'hey': 453, 'history': 454, 'idea': 455, 'instead': 456, 'level': 457, 'lies': 458, 'living': 459, 'past': 460, 'pine': 461, 'played': 462, 'players': 463, 'pm': 464, 'probably': 465, 'rest': 466, 'room': 467, 's': 468, 'scared': 469, 'sick': 470, 'singing': 471, 'stupid': 472, 'supposed': 473, 'th': 474, 'together': 475, 'towards': 476, 'wtf': 477, 'afternoon': 478, 'ai': 479, 'all': 480, 'almost': 481, 'attacks': 482, 'biggest': 483, 'blood': 484, 'broken': 485, 'buy': 486, 'contact': 487, 'depress': 488, 'dread': 489, 'exhilarating': 490, 'fall': 491, 'far': 492, 'felt': 493, 'forever': 494, 'gleeful': 495, 'high': 496, 'holiday': 497, 'human': 498, 'inside': 499, 'kik': 500, 'killed': 501, 'listen': 502, 'listening': 503, 'lives': 504, 'madden': 505, 'means': 506, 'mhchat': 507, 'omg': 508, 'paul': 509, 'pessimist': 510, 'poor': 511, 'rabid': 512, 'racist': 513, 'rather': 514, 'resent': 515, 'restless': 516, 'scare': 517, 'smh': 518, 'soon': 519, 'straight': 520, 'teams': 521, 'understand': 522, 'video': 523, 'vote': 524, 'weak': 525, 'who': 526, 'women': 527, 'anymore': 528, 'bitch': 529, 'book': 530, 'c': 531, 'cheery': 532, 'child': 533, 'coming': 534, 'crap': 535, 'deal': 536, 'dm': 537, 'dude': 538, 'eat': 539, 'expect': 540, 'eyes': 541, 'fighting': 542, 'food': 543, 'friday': 544, 'frown': 545, 'fuckin': 546, 'gave': 547, 'girls': 548, 'goes': 549, 'growl': 550, 'gun': 551, 'holding': 552, 'hours': 553, 'intimidate': 554, 'levity': 555, 'lips': 556, 'lonely': 557, 'match': 558, 'mine': 559, 'months': 560, 'moving': 561, 'order': 562, 'p': 563, 'party': 564, 'place': 565, 'pleasing': 566, 'posted': 567, 'ppl': 568, 'provoke': 569, 'read': 570, 'ready': 571, 'reason': 572, 'rejoicing': 573, 'road': 574, 'safe': 575, 'seems': 576, 'smiling': 577, 'social': 578, 'soul': 579, 'story': 580, 'using': 581, 'vs': 582, 'waiting': 583, 'website': 584, 'wonder': 585, 'worried': 586, 'ages': 587, 'ago': 588, 'americans': 589, 'bed': 590, 'bet': 591, 'bright': 592, 'business': 593, 'charlotte': 594, 'dear': 595, 'destroy': 596, 'door': 597, 'dreams': 598, 'early': 599, 'episode': 600, 'etc': 601, 'faith': 602, 'fan': 603, 'fast': 604, 'film': 605, 'forget': 606, 'forgot': 607, 'hand': 608, 'imagine': 609, 'kids': 610, 'later': 611, 'lt': 612, 'ni': 613, 'nicole': 614, 'often': 615, 'online': 616, 'optimist': 617, 'paid': 618, 'parents': 619, 'pizza': 620, 'player': 621, 'points': 622, 'post': 623, 'power': 624, 'president': 625, 'pure': 626, 'question': 627, 'reading': 628, 'scary': 629, 'send': 630, 'short': 631, 'situation': 632, 'sort': 633, 'spent': 634, 'stay': 635, 'store': 636, 'swear': 637, 'texans': 638, 'tried': 639, 'ugh': 640, 'absolute': 641, 'age': 642, 'agree': 643, 'air': 644, 'annoyed': 645, 'app': 646, 'attempt': 647, 'beautiful': 648, 'blacks': 649, 'boys': 650, 'centre': 651, 'chance': 652, 'cheerfully': 653, 'children': 654, 'coffee': 655, 'cut': 656, 'cute': 657, 'dad': 658, 'deep': 659, 'different': 660, 'drop': 661, 'easy': 662, 'elated': 663, 'email': 664, 'experience': 665, 'extra': 666, 'fans': 667, 'fight': 668, 'forward': 669, 'fume': 670, 'glad': 671, 'haha': 672, 'happens': 673, 'hot': 674, 'huff': 675, 'interview': 676, 'islam': 677, 'less': 678, 'looked': 679, 'looting': 680, 'lord': 681, 'lots': 682, 'matter': 683, 'meet': 684, 'milk': 685, 'mirth': 686, 'missed': 687, 'mom': 688, 'move': 689, 'name': 690, 'negative': 691, 'nights': 692, 'nope': 693, 'obviously': 694, 'peace': 695, 'perfect': 696, 'plus': 697, 'protest': 698, 'race': 699, 'realize': 700, 'red': 701, 'resentment': 702, 'respect': 703, 'rock': 704, 'rojo': 705, 'rooney': 706, 'self': 707, 'sense': 708, 'sit': 709, 'sound': 710, 'speak': 711, 'starting': 712, 'stuck': 713, 'success': 714, 'super': 715, 'sweet': 716, 'taken': 717, 'trash': 718, 'truly': 719, 'turned': 720, 'unga': 721, 'usa': 722, 'val': 723, 'wanted': 724, 'went': 725, 'writing': 726, 'x': 727, 'ya': 728, 'zero': 729, 'affliction': 730, 'aggravate': 731, 'awesome': 732, 'awkward': 733, 'become': 734, 'bill': 735, 'bloody': 736, 'broke': 737, 'brown': 738, 'bs': 739, 'cam': 740, 'can': 741, 'card': 742, 'channel': 743, 'charlotteprotest': 744, 'chirp': 745, 'college': 746, 'control': 747, 'cops': 748, 'cover': 749, 'dismal': 750, 'dog': 751, 'dropped': 752, 'drunk': 753, 'due': 754, 'dumb': 755, 'dying': 756, 'election': 757, 'entire': 758, 'everybody': 759, 'exactly': 760, 'facts': 761, 'fake': 762, 'final': 763, 'fright': 764, 'gloom': 765, 'hearty': 766, 'heyday': 767, 'hi': 768, 'incense': 769, 'indian': 770, 'info': 771, 'infuriate': 772, 'internet': 773, 'irate': 774, 'john': 775, 'joyous': 776, 'key': 777, 'knew': 778, 'knowing': 779, 'knows': 780, 'line': 781, 'longer': 782, 'low': 783, 'lying': 784, 'major': 785, 'meant': 786, 'michelle': 787, 'mood': 788, 'movies': 789, 'mufc': 790, 'names': 791, 'nation': 792, 'near': 793, 'non': 794, 'not': 795, 'obama': 796, 'ones': 797, 'open': 798, 'pain': 799, 'pak': 800, 'peter': 801, 'pick': 802, 'problems': 803, 'process': 804, 'pull': 805, 'radio': 806, 'reality': 807, 'rejoice': 808, 'rush': 809, 'scene': 810, 'second': 811, 'seem': 812, 'sent': 813, 'series': 814, 'set': 815, 'shut': 816, 'sitting': 817, 'somebody': 818, 'starts': 819, 'stopped': 820, 'sucks': 821, 'summer': 822, 'support': 823, 'terrific': 824, 'tho': 825, 'three': 826, 'ticket': 827, 'tiff': 828, 'till': 829, 'train': 830, 'turns': 831, 'useless': 832, 'voice': 833, 'walk': 834, 'ways': 835, 'whatever': 836, 'woke': 837, 'y': 838, 'you': 839, 'yr': 840, 'a': 841, 'able': 842, 'action': 843, 'address': 844, 'ahs': 845, 'animosity': 846, 'answer': 847, 'anyway': 848, 'apparently': 849, 'assume': 850, 'avoid': 851, 'balls': 852, 'behind': 853, 'blind': 854, 'born': 855, 'box': 856, 'bring': 857, 'btw': 858, 'bus': 859, 'calling': 860, 'came': 861, 'campaign': 862, 'candice': 863, 'catch': 864, 'celtic': 865, 'changing': 866, 'character': 867, 'cheerful': 868, 'clear': 869, 'clown': 870, 'comedy': 871, 'completely': 872, 'cool': 873, 'cross': 874, 'cuz': 875, 'd': 876, 'dangerous': 877, 'dead': 878, 'debate': 879, 'decide': 880, 'definitely': 881, 'depressed': 882, 'difference': 883, 'drive': 884, 'dry': 885, 'earth': 886, 'empty': 887, 'exact': 888, 'expected': 889, 'facebook': 890, 'favorite': 891, 'fine': 892, 'floor': 893, 'football': 894, 'force': 895, 'form': 896, 'frowning': 897, 'g': 898, 'games': 899, 'garbage': 900, 'group': 901, 'gym': 902, 'hath': 903, 'held': 904, 'ill': 905, 'important': 906, 'instagram': 907, 'involved': 908, 'iphone': 909, 'irritation': 910, 'jazz': 911, 'jesus': 912, 'join': 913, 'kitchen': 914, 'lack': 915, 'lady': 916, 'laugh': 917, 'laughing': 918, 'leadership': 919, 'letting': 920, 'lie': 921, 'likes': 922, 'losers': 923, 'losing': 924, 'manchester': 925, 'mary': 926, 'memories': 927, 'met': 928, 'mistake': 929, 'mope': 930, 'mother': 931, 'muslims': 932, 'nice': 933, 'nigga': 934, 'normal': 935, 'north': 936, 'office': 937, 'otherwise': 938, 'photo': 939, 'pic': 940, 'pics': 941, 'picture': 942, 'policy': 943, 'political': 944, 'positive': 945, 'pride': 946, 'putting': 947, 'queue': 948, 'quite': 949, 'rape': 950, 'rd': 951, 'respond': 952, 'reverse': 953, 'revolting': 954, 'rip': 955, 'rules': 956, 'sat': 957, 'saturday': 958, 'scrum': 959, 'shall': 960, 'shooting': 961, 'shows': 962, 'simple': 963, 'single': 964, 'sky': 965, 'smoke': 966, 'son': 967, 'song': 968, 'spider': 969, 'stand': 970, 'step': 971, 'stomach': 972, 'style': 973, 'sulk': 974, 'suppose': 975, 'surprised': 976, 'tantrums': 977, 'telling': 978, 'tickets': 979, 'tweets': 980, 'typical': 981, 'united': 982, 'v': 983, 'wake': 984, 'water': 985, 'weekend': 986, 'worth': 987, \"y'\": 988, 'yesterday': 989, 'young': 990, 'ability': 991, 'across': 992, 'act': 993, 'acting': 994, 'adult': 995, 'advice': 996, 'alarming': 997, 'american': 998, 'annoying': 999, 'anti': 1000, 'anywhere': 1001, 'argument': 1002, 'article': 1003, 'ball': 1004, 'band': 1005, 'bees': 1006, 'begin': 1007, 'beyond': 1008, 'blame': 1009, 'blue': 1010, 'bottle': 1011, 'bought': 1012, 'bout': 1013, 'bro': 1014, 'brought': 1015, 'bt': 1016, 'busy': 1017, 'butter': 1018, 'cantsleep': 1019, 'case': 1020, 'cats': 1021, 'challenge': 1022, 'chances': 1023, 'checked': 1024, 'chris': 1025, 'christmas': 1026, 'chuckle': 1027, 'collect': 1028, 'conflict': 1029, 'conversation': 1030, 'crimes': 1031, 'cunt': 1032, 'cup': 1033, 'current': 1034, 'date': 1035, 'decided': 1036, 'despite': 1037, 'disheartened': 1038, 'distracting': 1039, 'distrust': 1040, 'drinking': 1041, 'em': 1042, 'emo': 1043, 'emotions': 1044, 'energy': 1045, 'ep': 1046, 'evil': 1047, 'exhausted': 1048, 'express': 1049, 'f': 1050, 'fam': 1051, 'fashion': 1052, 'fearing': 1053, 'ff': 1054, 'fingers': 1055, 'finish': 1056, 'fix': 1057, 'focus': 1058, 'followers': 1059, 'foot': 1060, 'fox': 1061, 'fr': 1062, 'fret': 1063, 'fucked': 1064, 'gate': 1065, 'gay': 1066, 'gen': 1067, 'goal': 1068, 'government': 1069, 'grieve': 1070, 'growing': 1071, 'ha': 1072, 'harder': 1073, 'hatred': 1074, 'have': 1075, 'hurt': 1076, 'hurts': 1077, 'hut': 1078, 'ignorance': 1079, 'inflame': 1080, 'injustice': 1081, 'interesting': 1082, 'ios': 1083, 'island': 1084, 'issue': 1085, 'johnson': 1086, 'jovial': 1087, 'joy': 1088, 'juggle': 1089, 'jump': 1090, 'justice': 1091, 'keeps': 1092, 'kikme': 1093, 'l': 1094, 'la': 1095, 'loud': 1096, 'loved': 1097, 'loving': 1098, 'luck': 1099, 'lunch': 1100, 'main': 1101, 'mark': 1102, 'mate': 1103, 'mins': 1104, 'missing': 1105, 'momma': 1106, 'monster': 1107, 'murder': 1108, 'muslim': 1109, 'nasty': 1110, 'needed': 1111, 'network': 1112, 'nno': 1113, 'note': 1114, 'offensive': 1115, 'opinion': 1116, 'opportunity': 1117, 'others': 1118, 'parking': 1119, 'pissed': 1120, 'politics': 1121, 'possible': 1122, 'pressure': 1123, 'promise': 1124, 'protests': 1125, 'pun': 1126, 'punch': 1127, 'punny': 1128, 'questions': 1129, 'r': 1130, 're': 1131, 'recent': 1132, 'relationship': 1133, 'reply': 1134, 'result': 1135, 'rich': 1136, 'ridiculous': 1137, 'ring': 1138, 'rn': 1139, 'round': 1140, 'rude': 1141, 'running': 1142, 'russia': 1143, 'scorned': 1144, 'secret': 1145, 'seek': 1146, 'sees': 1147, 'services': 1148, 'sex': 1149, 'she': 1150, 'shitty': 1151, 'shoot': 1152, 'silence': 1153, 'sister': 1154, 'sleeping': 1155, 'somewhere': 1156, 'sounds': 1157, 'source': 1158, 'spirit': 1159, 'storm': 1160, 'stress': 1161, 'strong': 1162, 'struggle': 1163, 'sun': 1164, 'sunday': 1165, 'supporting': 1166, 'taste': 1167, 'tells': 1168, 'texas': 1169, 'tip': 1170, 'town': 1171, 'tulsa': 1172, 'tweeting': 1173, 'un': 1174, 'update': 1175, 'upset': 1176, 'version': 1177, 'wall': 1178, 'wasted': 1179, 'wearing': 1180, 'where': 1181, 'wife': 1182, 'wild': 1183, 'wind': 1184, 'winning': 1185, 'wished': 1186, 'wonderful': 1187, 'written': 1188, 'youtube': 1189, 'accept': 1190, 'accepted': 1191, 'accounts': 1192, 'add': 1193, 'adrenaline': 1194, 'adults': 1195, 'af': 1196, 'alternate': 1197, 'animals': 1198, 'apart': 1199, 'arms': 1200, 'asian': 1201, 'asleep': 1202, 'atmosphere': 1203, 'attention': 1204, 'australia': 1205, 'autocorrect': 1206, 'average': 1207, 'baby': 1208, 'bag': 1209, 'bakewell': 1210, 'bars': 1211, 'beat': 1212, 'becoming': 1213, 'blessed': 1214, 'blog': 1215, 'blow': 1216, 'board': 1217, 'bob': 1218, 'books': 1219, 'boss': 1220, 'brain': 1221, 'bridges': 1222, 'bringing': 1223, 'brother': 1224, 'brothers': 1225, 'bubble': 1226, 'build': 1227, 'bunch': 1228, 'buying': 1229, 'cage': 1230, 'calm': 1231, 'canada': 1232, 'carry': 1233, 'changes': 1234, 'chaos': 1235, 'cheap': 1236, 'childhood': 1237, 'choose': 1238, 'church': 1239, 'clearly': 1240, 'clinton': 1241, 'clouded': 1242, 'clue': 1243, 'cold': 1244, 'comments': 1245, 'community': 1246, 'company': 1247, 'complain': 1248, 'con': 1249, 'concept': 1250, 'confused': 1251, 'constant': 1252, 'constantly': 1253, 'couple': 1254, 'crash': 1255, 'create': 1256, 'created': 1257, 'creepy': 1258, 'crime': 1259, 'culture': 1260, 'cure': 1261, 'currently': 1262, 'customerservice': 1263, 'dashed': 1264, 'data': 1265, 'dating': 1266, 'daunting': 1267, 'decent': 1268, 'decision': 1269, 'defense': 1270, 'delete': 1271, 'delivered': 1272, 'democracy': 1273, 'dentist': 1274, 'deserves': 1275, 'destroyed': 1276, 'difficulty': 1277, 'dire': 1278, 'disappointed': 1279, 'dislike': 1280, 'divided': 1281, 'dollar': 1282, 'doom': 1283, 'double': 1284, 'draw': 1285, 'e': 1286, 'earlier': 1287, 'eating': 1288, 'education': 1289, 'emails': 1290, 'emoji': 1291, 'enjoy': 1292, 'epic': 1293, 'events': 1294, 'everyday': 1295, 'everywhere': 1296, 'evolution': 1297, 'ex': 1298, 'exhilaration': 1299, 'exist': 1300, 'expensive': 1301, 'experiences': 1302, 'explain': 1303, 'eye': 1304, 'faced': 1305, 'fail': 1306, 'falling': 1307, 'false': 1308, 'father': 1309, 'faux': 1310, 'fav': 1311, 'favor': 1312, 'feet': 1313, 'female': 1314, 'fest': 1315, 'ffs': 1316, 'fill': 1317, 'filled': 1318, 'finished': 1319, 'fit': 1320, 'flu': 1321, 'fml': 1322, 'folks': 1323, 'forest': 1324, 'forth': 1325, 'four': 1326, 'fraud': 1327, 'freaked': 1328, 'freedom': 1329, 'frustration': 1330, 'gaga': 1331, 'gameface': 1332, 'gaming': 1333, 'gas': 1334, 'george': 1335, 'ghastly': 1336, 'ghost': 1337, 'gif': 1338, 'gives': 1339, 'goals': 1340, 'gold': 1341, 'gotham': 1342, 'govt': 1343, 'green': 1344, 'grow': 1345, 'hahaha': 1346, 'handle': 1347, 'hang': 1348, 'hatered': 1349, 'heads': 1350, 'height': 1351, 'helping': 1352, 'hide': 1353, 'hockey': 1354, 'holy': 1355, 'hopeful': 1356, 'hoping': 1357, 'houses': 1358, 'houston': 1359, 'how': 1360, 'icq': 1361, 'ideas': 1362, 'ignorant': 1363, 'immediately': 1364, 'impossible': 1365, 'in': 1366, 'inconsolable': 1367, 'indignation': 1368, 'inner': 1369, 'instantly': 1370, 'iraq': 1371, 'jack': 1372, 'japanese': 1373, 'jersey': 1374, 'joey': 1375, 'jokes': 1376, 'journey': 1377, 'juz': 1378, 'kashmir': 1379, 'keeping': 1380, 'keys': 1381, 'kick': 1382, 'kurt': 1383, 'lately': 1384, 'law': 1385, 'leads': 1386, 'learn': 1387, 'learning': 1388, 'leaves': 1389, 'leaving': 1390, 'lethalweapon': 1391, 'lets': 1392, 'light': 1393, 'likely': 1394, 'lil': 1395, 'lip': 1396, 'loathing': 1397, 'loss': 1398, 'lovely': 1399, 'machine': 1400, 'me': 1401, 'meal': 1402, 'meeting': 1403, 'mel': 1404, 'members': 1405, 'mention': 1406, 'middle': 1407, 'midnight': 1408, 'million': 1409, 'min': 1410, 'mindfulness': 1411, 'minus': 1412, 'minute': 1413, 'moses': 1414, 'mouth': 1415, 'moved': 1416, 'n-': 1417, 'naked': 1418, 'nap': 1419, 'nawazsharif': 1420, 'nevertrump': 1421, 'nif': 1422, 'nme': 1423, 'no': 1424, 'nobody': 1425, 'nose': 1426, 'nudes': 1427, 'nut': 1428, 'october': 1429, 'officer': 1430, 'opened': 1431, 'opening': 1432, 'options': 1433, 'ortiz': 1434, 'package': 1435, 'paper': 1436, 'peanut': 1437, 'penny': 1438, 'peoplelikemebecause': 1439, 'personal': 1440, 'physically': 1441, 'pigs': 1442, 'piss': 1443, 'pitched': 1444, 'plan': 1445, 'plays': 1446, 'pop': 1447, 'population': 1448, 'position': 1449, 'posts': 1450, 'prejudice': 1451, 'present': 1452, 'prices': 1453, 'prison': 1454, 'pro': 1455, 'promising': 1456, 'propaganda': 1457, 'proud': 1458, 'provocation': 1459, 'public': 1460, 'purpose': 1461, 'q': 1462, 'quotes': 1463, 'random': 1464, 'rap': 1465, 'rapper': 1466, 'react': 1467, 'received': 1468, 'record': 1469, 'refuse': 1470, 'relationships': 1471, 'remove': 1472, 'replace': 1473, 'response': 1474, 'responsible': 1475, 'righteous': 1476, 'rights': 1477, 'riots': 1478, 'roommate': 1479, 'ruffle': 1480, 'ruining': 1481, 'russian': 1482, 'sales': 1483, 'sam': 1484, 'save': 1485, 'seasons': 1486, 'sedate': 1487, 'sentence': 1488, 'september': 1489, 'shame': 1490, 'shoes': 1491, 'shudder': 1492, 'sing': 1493, 'sir': 1494, 'sizes': 1495, 'sleepless': 1496, 'slow': 1497, 'smells': 1498, 'snapme': 1499, 'sofas': 1500, 'soft': 1501, 'somehow': 1502, 'specific': 1503, 'spend': 1504, 'staff': 1505, 'stars': 1506, 'statement': 1507, 'stores': 1508, 'struggling': 1509, 'study': 1510, 'sue': 1511, 'suggest': 1512, 'swallow': 1513, 'switch': 1514, 'sydney': 1515, 'szn': 1516, 'tart': 1517, 'tax': 1518, 'teacher': 1519, 'text': 1520, 'the': 1521, 'this': 1522, 'thousands': 1523, 'threat': 1524, 'throw': 1525, 'touch': 1526, 'track': 1527, 'tribute': 1528, 'trust': 1529, 'tube': 1530, 'twain': 1531, 'uber': 1532, 'unbelievable': 1533, 'understanding': 1534, 'upon': 1535, 'upside': 1536, 'uses': 1537, 'usual': 1538, 'values': 1539, 'victim': 1540, 'walking': 1541, 'wear': 1542, 'weather': 1543, 'wee': 1544, 'weird': 1545, 'welcome': 1546, 'wifi': 1547, 'willing': 1548, 'windows': 1549, 'wine': 1550, 'wins': 1551, 'works': 1552, 'worrying': 1553, 'worthless': 1554, 'wwe': 1555, 'abortion': 1556, 'acc': 1557, 'acceptable': 1558, 'access': 1559, 'account': 1560, 'adorable': 1561, 'affair': 1562, 'afghanistan': 1563, 'aflcatsswans': 1564, 'aid': 1565, 'album': 1566, 'albums': 1567, 'allow': 1568, 'along': 1569, 'although': 1570, 'amendment': 1571, 'amwriting': 1572, 'angelina': 1573, 'angrily': 1574, 'anniversary': 1575, 'anxietyprobz': 1576, 'anxious': 1577, 'anybody': 1578, 'appearance': 1579, 'appears': 1580, 'appropriate': 1581, 'arrest': 1582, 'arrive': 1583, 'art': 1584, 'asap': 1585, 'asking': 1586, 'astros': 1587, 'atlanta': 1588, 'atrocious': 1589, 'attitude': 1590, 'autumn': 1591, 'bake': 1592, 'barely': 1593, 'based': 1594, 'basic': 1595, 'basket': 1596, 'bbfinale': 1597, 'beans': 1598, 'became': 1599, 'beer': 1600, 'beings': 1601, 'bias': 1602, 'bigger': 1603, 'bin': 1604, 'birth': 1605, 'bitches': 1606, 'bits': 1607, 'blm': 1608, 'block': 1609, 'blocks': 1610, 'blowing': 1611, 'bomb': 1612, 'booked': 1613, 'boring': 1614, 'bot': 1615, 'bottom': 1616, 'brad': 1617, 'breaking': 1618, 'breathe': 1619, 'breathless': 1620, 'brendon': 1621, 'brilliant': 1622, 'bullet': 1623, 'bullshit': 1624, 'buses': 1625, 'but': 1626, 'butt': 1627, 'bye': 1628, 'camden': 1629, 'canon': 1630, 'cares': 1631, 'carpet': 1632, 'cat': 1633, 'causing': 1634, 'ccot': 1635, 'celebrity': 1636, 'charge': 1637, 'chart': 1638, 'chase': 1639, 'chat': 1640, 'check': 1641, 'checking': 1642, 'chelsea': 1643, 'chicken': 1644, 'chill': 1645, 'choice': 1646, 'christ': 1647, 'christie': 1648, 'chronic': 1649, 'circle': 1650, 'classic': 1651, 'clean': 1652, 'cloud': 1653, 'clowns': 1654, 'club': 1655, 'cocks': 1656, 'code': 1657, 'coincidence': 1658, 'commercial': 1659, 'complete': 1660, 'concert': 1661, 'confident': 1662, 'considered': 1663, 'content': 1664, 'continue': 1665, 'cop': 1666, 'corrupt': 1667, 'courage': 1668, 'cracks': 1669, 'cried': 1670, 'criticize': 1671, 'crossed': 1672, 'cumtribute': 1673, 'customers': 1674, 'daily': 1675, 'damper': 1676, 'dancing': 1677, 'dealing': 1678, 'defending': 1679, 'degree': 1680, 'deserve': 1681, 'designed': 1682, 'desire': 1683, 'dick': 1684, 'digging': 1685, 'disabled': 1686, 'disgusting': 1687, 'disney': 1688, 'display': 1689, 'disturbed': 1690, 'divide': 1691, 'doctor': 1692, 'documentary': 1693, 'donald': 1694, 'download': 1695, 'dreamornightmare': 1696, 'drink': 1697, 'driver': 1698, 'driving': 1699, 'droop': 1700, 'drove': 1701, 'drug': 1702, 'dt': 1703, 'easily': 1704, 'economic': 1705, 'ect': 1706, 'embarrassing': 1707, 'emotional': 1708, 'ended': 1709, 'ends': 1710, 'enemy': 1711, 'engine': 1712, 'england': 1713, 'english': 1714, 'environment': 1715, 'episodes': 1716, 'especially': 1717, 'espresso': 1718, 'eval': 1719, 'eventually': 1720, 'excuse': 1721, 'expressed': 1722, 'exterior': 1723, 'extremeworld': 1724, 'failed': 1725, 'failure': 1726, 'faking': 1727, 'famous': 1728, 'fancy': 1729, 'fandom': 1730, 'fat': 1731, 'favourite': 1732, 'fearful': 1733, 'fears': 1734, 'feathers': 1735, 'feelings': 1736, 'fellow': 1737, 'fiction': 1738, 'flag': 1739, 'foam': 1740, 'following': 1741, 'forgive': 1742, 'forlorn': 1743, 'franchise': 1744, 'freaking': 1745, 'french': 1746, 'frustrated': 1747, 'fuel': 1748, 'general': 1749, 'generation': 1750, 'genius': 1751, 'genocide': 1752, 'germany': 1753, 'gf': 1754, 'gifs': 1755, 'given': 1756, 'giving': 1757, 'global': 1758, 'google': 1759, 'gosh': 1760, 'grind': 1761, 'guns': 1762, 'guts': 1763, 'halfway': 1764, 'halloween': 1765, 'happening': 1766, 'harm': 1767, 'haters': 1768, 'hating': 1769, 'haunting': 1770, 'headed': 1771, 'health': 1772, 'heavy': 1773, 'helpful': 1774, 'hesitate': 1775, 'higher': 1776, 'highly': 1777, 'hitler': 1778, 'hoco': 1779, 'honesty': 1780, 'hopelessness': 1781, 'hospital': 1782, 'hotel': 1783, 'huge': 1784, 'idiot': 1785, 'idiots': 1786, 'idk': 1787, 'incite': 1788, 'including': 1789, 'incredibly': 1790, 'indignant': 1791, 'industry': 1792, 'ing': 1793, 'initially': 1794, 'innocent': 1795, 'inspiration': 1796, 'internationaldayofpeace': 1797, 'intimidation': 1798, 'invite': 1799, 'irony': 1800, 'irrelevant': 1801, 'jaunty': 1802, 'jc': 1803, 'jimmy': 1804, 'jose': 1805, 'jubilant': 1806, 'jumped': 1807, 'kardashian': 1808, 'karma': 1809, 'kerry': 1810, 'kisses': 1811, 'lackadaisical': 1812, 'laden': 1813, 'lame': 1814, 'large': 1815, 'latest': 1816, 'lay': 1817, 'laying': 1818, 'leader': 1819, 'learned': 1820, 'legit': 1821, 'legs': 1822, 'leo': 1823, 'liar': 1824, 'link': 1825, 'lisa': 1826, 'lived': 1827, 'lo': 1828, 'local': 1829, 'loneliness': 1830, 'loves': 1831, 'lucky': 1832, 'machines': 1833, 'male': 1834, 'mall': 1835, 'manages': 1836, 'manutd': 1837, 'married': 1838, 'matches': 1839, 'mates': 1840, 'math': 1841, 'max': 1842, 'meaning': 1843, 'meds': 1844, 'melancholy': 1845, 'member': 1846, 'mentalhealth': 1847, 'merriment': 1848, 'messing': 1849, 'mighty': 1850, 'minds': 1851, 'misogyny': 1852, 'mix': 1853, 'model': 1854, 'monday': 1855, 'moon': 1856, 'moping': 1857, 'motivation': 1858, 'mr': 1859, 'ms': 1860, 'mum': 1861, 'nails': 1862, 'nand': 1863, 'natural': 1864, 'nawaz': 1865, 'nearly': 1866, 'neighbor': 1867, 'neighborhood': 1868, 'neighbours': 1869, 'nervousness': 1870, 'net': 1871, 'netflix': 1872, 'nin': 1873, 'nj': 1874, 'nl': 1875, 'noise': 1876, 'notfair': 1877, 'november': 1878, 'nowadays': 1879, 'np': 1880, 'nso': 1881, 'nthat': 1882, 'nthe': 1883, 'nthrow': 1884, 'number': 1885, 'nwe': 1886, 'nwhen': 1887, 'ny': 1888, 'odds': 1889, 'offer': 1890, 'officers': 1891, 'officially': 1892, 'oregon': 1893, 'organization': 1894, 'outraged': 1895, 'outta': 1896, 'overwhelming': 1897, 'pages': 1898, 'pass': 1899, 'pathetic': 1900, 'patronus': 1901, 'pause': 1902, 'performance': 1903, 'personally': 1904, 'pervert': 1905, 'pessimism': 1906, 'phones': 1907, 'piece': 1908, 'pity': 1909, 'planned': 1910, 'plastic': 1911, 'plenty': 1912, 'pls': 1913, 'plz': 1914, 'pointed': 1915, 'pool': 1916, 'poop': 1917, 'possibly': 1918, 'pot': 1919, 'pour': 1920, 'pov': 1921, 'practice': 1922, 'praying': 1923, 'premiere': 1924, 'press': 1925, 'price': 1926, 'projection': 1927, 'protein': 1928, 'protesting': 1929, 'prove': 1930, 'ps': 1931, 'push': 1932, 'pushing': 1933, 'pussy': 1934, 'putin': 1935, 'quiet': 1936, 'quit': 1937, 'raid': 1938, 'rain': 1939, 'ran': 1940, 'rangers': 1941, 'rappers': 1942, 'raw': 1943, 'reaches': 1944, 'reaper': 1945, 'recording': 1946, 'refs': 1947, 'refugees': 1948, 'refund': 1949, 'release': 1950, 'relevant': 1951, 'remain': 1952, 'reminds': 1953, 'replaced': 1954, 'report': 1955, 'results': 1956, 'return': 1957, 'returned': 1958, 'ride': 1959, 'rioters': 1960, 'ripping': 1961, 'rlly': 1962, 'rueful': 1963, 'rule': 1964, 'runs': 1965, 'ryan': 1966, 'saved': 1967, 'science': 1968, 'scott': 1969, 'scowl': 1970, 'screen': 1971, 'seed': 1972, 'semester': 1973, 'sensitive': 1974, 'server': 1975, 'several': 1976, 'shiver': 1977, 'shop': 1978, 'shoutout': 1979, 'showed': 1980, 'sigh': 1981, 'sign': 1982, 'signal': 1983, 'signed': 1984, 'silent': 1985, 'silly': 1986, 'silver': 1987, 'simon': 1988, 'simply': 1989, 'sis': 1990, 'sixth': 1991, 'slagging': 1992, 'sleepy': 1993, 'smack': 1994, 'smiles': 1995, 'smooth': 1996, 'society': 1997, 'songs': 1998, 'space': 1999, 'spain': 2000, 'speaking': 2001, 'speaks': 2002, 'speech': 2003, 'spin': 2004, 'sports': 2005, 'spot': 2006, 'stadium': 2007, 'stans': 2008, 'star': 2009, 'station': 2010, 'steal': 2011, 'steele': 2012, 'stephen': 2013, 'stories': 2014, 'street': 2015, 'stressed': 2016, 'student': 2017, 'subway': 2018, 'suck': 2019, 'supporters': 2020, 'supports': 2021, 'surely': 2022, 'sutton': 2023, 'swap': 2024, 'sweating': 2025, 'swung': 2026, 'system': 2027, 'tag': 2028, 'talkin': 2029, 'target': 2030, 'tastes': 2031, 'taurus': 2032, 'tea': 2033, 'teaching': 2034, 'tear': 2035, 'teeth': 2036, 'temper': 2037, 'ten': 2038, 'terencecrutcher': 2039, 'term': 2040, 'terms': 2041, 'terrify': 2042, 'terrorstatepak': 2043, 'tf': 2044, 'therapist': 2045, 'thighs': 2046, 'thin': 2047, 'thinks': 2048, 'threesome': 2049, 'tie': 2050, 'tilting': 2051, 'tips': 2052, 'tolerance': 2053, 'tony': 2054, 'topic': 2055, 'total': 2056, 'tour': 2057, 'tournament': 2058, 'toward': 2059, 'tracking': 2060, 'training': 2061, 'transition': 2062, 'treat': 2063, 'treated': 2064, 'tree': 2065, 'tremor': 2066, 'tumblr': 2067, 'turning': 2068, 'twice': 2069, 'ultimately': 2070, 'umbrage': 2071, 'ummm': 2072, 'unable': 2073, 'unfortunately': 2074, 'universal': 2075, 'unknown': 2076, 'uploaded': 2077, 'uri': 2078, 'ustinov': 2079, 've': 2080, 'via': 2081, 'videos': 2082, 'view': 2083, 'violence': 2084, 'voices': 2085, 'waited': 2086, 'walked': 2087, 'wanting': 2088, 'was': 2089, 'wash': 2090, 'waters': 2091, 'wave': 2092, 'wednesday': 2093, 'whenever': 2094, 'whether': 2095, 'whilst': 2096, 'williams': 2097, 'wondering': 2098, 'woods': 2099, 'write': 2100, 'yay': 2101, 'yep': 2102, 'yikes': 2103, 'yrs': 2104})\n"
     ]
    }
   ],
   "source": [
    "#initialize glove embeddings\n",
    "TEXT.build_vocab(train_ds,min_freq=3,vectors = \"glove.6B.100d\")  \n",
    "LABEL.build_vocab(train_ds)\n",
    "\n",
    "#No. of unique tokens in text\n",
    "print(\"Size of TEXT vocabulary:\",len(TEXT.vocab))\n",
    "\n",
    "#No. of unique tokens in label\n",
    "print(\"Size of LABEL vocabulary:\",len(LABEL.vocab))\n",
    "\n",
    "#Commonly used words\n",
    "print(TEXT.vocab.freqs.most_common(10))  \n",
    "\n",
    "#Word dictionary\n",
    "print(TEXT.vocab.stoi) "
   ]
  },
  {
   "cell_type": "code",
   "execution_count": 33,
   "metadata": {},
   "outputs": [],
   "source": [
    "#check whether cuda is available\n",
    "device = torch.device('cuda' if torch.cuda.is_available() else 'cpu')  \n",
    "\n",
    "#set batch size\n",
    "BATCH_SIZE = 64\n",
    "\n",
    "#Load an iterator\n",
    "train_iterator, valid_iterator = data.BucketIterator.splits(\n",
    "    (train_ds, val_ds), \n",
    "    batch_size = BATCH_SIZE,\n",
    "    sort_key = lambda x: len(x.text),\n",
    "    sort_within_batch=True,\n",
    "    device = device)"
   ]
  },
  {
   "cell_type": "code",
   "execution_count": 49,
   "metadata": {},
   "outputs": [],
   "source": [
    "import torch.nn as nn\n",
    "\n",
    "class classifier(nn.Module):\n",
    "    \n",
    "    #define all the layers used in model\n",
    "    def __init__(self, vocab_size, embedding_dim, hidden_dim, output_dim, n_layers, \n",
    "                 bidirectional, dropout):\n",
    "        \n",
    "        #Constructor\n",
    "        super().__init__()          \n",
    "        \n",
    "        #embedding layer\n",
    "        self.embedding = nn.Embedding(vocab_size, embedding_dim)\n",
    "        \n",
    "        #lstm layer\n",
    "        self.lstm = nn.LSTM(embedding_dim, \n",
    "                           hidden_dim, \n",
    "                           num_layers=n_layers, \n",
    "                           bidirectional=bidirectional, \n",
    "                           dropout=dropout,\n",
    "                           batch_first=True)\n",
    "        \n",
    "        #dense layer\n",
    "        self.fc = nn.Linear(hidden_dim * 2, output_dim)\n",
    "        \n",
    "        #activation function\n",
    "        self.act = nn.Sigmoid()\n",
    "        \n",
    "    def forward(self, text, text_lengths):\n",
    "        \n",
    "        #text = [batch size,sent_length]\n",
    "        embedded = self.embedding(text)\n",
    "        #embedded = [batch size, sent_len, emb dim]\n",
    "      \n",
    "        #packed sequence\n",
    "        packed_embedded = nn.utils.rnn.pack_padded_sequence(embedded, text_lengths.to('cpu'),batch_first=True)\n",
    "        \n",
    "        packed_output, (hidden, cell) = self.lstm(packed_embedded)\n",
    "        #hidden = [batch size, num layers * num directions,hid dim]\n",
    "        #cell = [batch size, num layers * num directions,hid dim]\n",
    "        \n",
    "        #concat the final forward and backward hidden state\n",
    "        hidden = torch.cat((hidden[-2,:,:], hidden[-1,:,:]), dim = 1)\n",
    "                \n",
    "        #hidden = [batch size, hid dim * num directions]\n",
    "        dense_outputs=self.fc(hidden)\n",
    "\n",
    "        #Final activation function\n",
    "        outputs=self.act(dense_outputs)\n",
    "        \n",
    "        return outputs"
   ]
  },
  {
   "cell_type": "code",
   "execution_count": 50,
   "metadata": {},
   "outputs": [],
   "source": [
    "#define hyperparameters\n",
    "size_of_vocab = len(TEXT.vocab)\n",
    "embedding_dim = 100\n",
    "num_hidden_nodes = 32\n",
    "num_output_nodes = 1\n",
    "num_layers = 2\n",
    "bidirection = True\n",
    "dropout = 0.2\n",
    "\n",
    "#instantiate the model\n",
    "model = classifier(size_of_vocab, embedding_dim, num_hidden_nodes,num_output_nodes, num_layers, \n",
    "                   bidirectional = True, dropout = dropout)"
   ]
  },
  {
   "cell_type": "code",
   "execution_count": 51,
   "metadata": {},
   "outputs": [
    {
     "name": "stdout",
     "output_type": "stream",
     "text": [
      "classifier(\n",
      "  (embedding): Embedding(2105, 100)\n",
      "  (lstm): LSTM(100, 32, num_layers=2, batch_first=True, dropout=0.2, bidirectional=True)\n",
      "  (fc): Linear(in_features=64, out_features=1, bias=True)\n",
      "  (act): Sigmoid()\n",
      ")\n",
      "The model has 269,957 trainable parameters\n",
      "torch.Size([2105, 100])\n"
     ]
    }
   ],
   "source": [
    "#architecture\n",
    "print(model)\n",
    "\n",
    "#No. of trianable parameters\n",
    "def count_parameters(model):\n",
    "    return sum(p.numel() for p in model.parameters() if p.requires_grad)\n",
    "    \n",
    "print(f'The model has {count_parameters(model):,} trainable parameters')\n",
    "\n",
    "#Initialize the pretrained embedding\n",
    "pretrained_embeddings = TEXT.vocab.vectors\n",
    "model.embedding.weight.data.copy_(pretrained_embeddings)\n",
    "\n",
    "print(pretrained_embeddings.shape)"
   ]
  },
  {
   "cell_type": "code",
   "execution_count": 52,
   "metadata": {},
   "outputs": [],
   "source": [
    "import torch.optim as optim\n",
    "\n",
    "#define optimizer and loss\n",
    "optimizer = optim.Adam(model.parameters())\n",
    "criterion = nn.BCELoss()\n",
    "\n",
    "#define metric\n",
    "def binary_accuracy(preds, y):\n",
    "    #round predictions to the closest integer\n",
    "    rounded_preds = torch.round(preds)\n",
    "    \n",
    "    correct = (rounded_preds == y).float() \n",
    "    acc = correct.sum() / len(correct)\n",
    "    return acc\n",
    "    \n",
    "#push to cuda if available\n",
    "model = model.to(device)\n",
    "criterion = criterion.to(device)"
   ]
  },
  {
   "cell_type": "code",
   "execution_count": 53,
   "metadata": {},
   "outputs": [],
   "source": [
    "def train(model, iterator, optimizer, criterion):\n",
    "    \n",
    "    #initialize every epoch \n",
    "    epoch_loss = 0\n",
    "    epoch_acc = 0\n",
    "    \n",
    "    #set the model in training phase\n",
    "    model.train()  \n",
    "    \n",
    "    for batch in iterator:\n",
    "        \n",
    "        #resets the gradients after every batch\n",
    "        optimizer.zero_grad()   \n",
    "        \n",
    "        #retrieve text and no. of words\n",
    "        text, text_lengths = batch.text   \n",
    "        \n",
    "        #convert to 1D tensor\n",
    "        predictions = model(text, text_lengths).squeeze()  \n",
    "        \n",
    "        #compute the loss\n",
    "        loss = criterion(predictions, batch.target)        \n",
    "        \n",
    "        #compute the binary accuracy\n",
    "        acc = binary_accuracy(predictions, batch.target)   \n",
    "        \n",
    "        #backpropage the loss and compute the gradients\n",
    "        loss.backward()       \n",
    "        \n",
    "        #update the weights\n",
    "        optimizer.step()      \n",
    "        \n",
    "        #loss and accuracy\n",
    "        epoch_loss += loss.item()  \n",
    "        epoch_acc += acc.item()    \n",
    "        \n",
    "    return epoch_loss / len(iterator), epoch_acc / len(iterator)"
   ]
  },
  {
   "cell_type": "code",
   "execution_count": 54,
   "metadata": {},
   "outputs": [],
   "source": [
    "def evaluate(model, iterator, criterion):\n",
    "    \n",
    "    #initialize every epoch\n",
    "    epoch_loss = 0\n",
    "    epoch_acc = 0\n",
    "\n",
    "    #deactivating dropout layers\n",
    "    model.eval()\n",
    "    \n",
    "    #deactivates autograd\n",
    "    with torch.no_grad():\n",
    "    \n",
    "        for batch in iterator:\n",
    "        \n",
    "            #retrieve text and no. of words\n",
    "            text, text_lengths = batch.text\n",
    "            \n",
    "            #convert to 1d tensor\n",
    "            predictions = model(text, text_lengths).squeeze()\n",
    "            \n",
    "            #compute loss and accuracy\n",
    "            loss = criterion(predictions, batch.target)\n",
    "            acc = binary_accuracy(predictions, batch.target)\n",
    "            \n",
    "            #keep track of loss and accuracy\n",
    "            epoch_loss += loss.item()\n",
    "            epoch_acc += acc.item()\n",
    "        \n",
    "    return epoch_loss / len(iterator), epoch_acc / len(iterator)"
   ]
  },
  {
   "cell_type": "code",
   "execution_count": 55,
   "metadata": {
    "scrolled": true,
    "tags": []
   },
   "outputs": [
    {
     "name": "stdout",
     "output_type": "stream",
     "text": [
      "\tTrain Loss: 0.302 | Train Acc: 26.29%\n",
      "\t Val. Loss: 0.062 |  Val. Acc: 23.51%\n",
      "\tTrain Loss: -0.094 | Train Acc: 26.53%\n",
      "\t Val. Loss: -0.417 |  Val. Acc: 25.07%\n",
      "\tTrain Loss: -1.630 | Train Acc: 42.14%\n",
      "\t Val. Loss: -1.619 |  Val. Acc: 49.58%\n",
      "\tTrain Loss: -3.301 | Train Acc: 50.60%\n",
      "\t Val. Loss: -1.774 |  Val. Acc: 53.28%\n",
      "\tTrain Loss: -25.111 | Train Acc: 54.23%\n",
      "\t Val. Loss: -18.173 |  Val. Acc: 50.05%\n",
      "\tTrain Loss: -30.396 | Train Acc: 57.24%\n",
      "\t Val. Loss: -22.685 |  Val. Acc: 46.24%\n",
      "\tTrain Loss: -32.295 | Train Acc: 58.48%\n",
      "\t Val. Loss: -22.028 |  Val. Acc: 50.68%\n",
      "\tTrain Loss: -32.820 | Train Acc: 59.58%\n",
      "\t Val. Loss: -20.226 |  Val. Acc: 51.51%\n",
      "\tTrain Loss: -33.776 | Train Acc: 60.11%\n",
      "\t Val. Loss: -23.332 |  Val. Acc: 48.23%\n",
      "\tTrain Loss: -34.820 | Train Acc: 61.82%\n",
      "\t Val. Loss: -21.947 |  Val. Acc: 52.87%\n",
      "\tTrain Loss: -34.594 | Train Acc: 61.21%\n",
      "\t Val. Loss: -20.711 |  Val. Acc: 52.24%\n",
      "\tTrain Loss: -35.593 | Train Acc: 62.28%\n",
      "\t Val. Loss: -22.867 |  Val. Acc: 51.98%\n",
      "\tTrain Loss: -36.645 | Train Acc: 63.24%\n",
      "\t Val. Loss: -22.113 |  Val. Acc: 51.83%\n",
      "\tTrain Loss: -36.723 | Train Acc: 63.35%\n",
      "\t Val. Loss: -22.679 |  Val. Acc: 50.05%\n",
      "\tTrain Loss: -36.836 | Train Acc: 64.03%\n",
      "\t Val. Loss: -20.989 |  Val. Acc: 50.62%\n",
      "\tTrain Loss: -37.002 | Train Acc: 63.82%\n",
      "\t Val. Loss: -21.447 |  Val. Acc: 51.57%\n",
      "\tTrain Loss: -37.346 | Train Acc: 64.55%\n",
      "\t Val. Loss: -22.387 |  Val. Acc: 51.83%\n",
      "\tTrain Loss: -37.375 | Train Acc: 64.65%\n",
      "\t Val. Loss: -20.961 |  Val. Acc: 52.03%\n",
      "\tTrain Loss: -37.294 | Train Acc: 65.04%\n",
      "\t Val. Loss: -22.333 |  Val. Acc: 52.35%\n",
      "\tTrain Loss: -37.535 | Train Acc: 65.22%\n",
      "\t Val. Loss: -22.447 |  Val. Acc: 51.57%\n",
      "\tTrain Loss: -37.703 | Train Acc: 65.57%\n",
      "\t Val. Loss: -22.896 |  Val. Acc: 50.62%\n",
      "\tTrain Loss: -37.657 | Train Acc: 65.54%\n",
      "\t Val. Loss: -22.663 |  Val. Acc: 51.25%\n",
      "\tTrain Loss: -37.285 | Train Acc: 64.80%\n",
      "\t Val. Loss: -24.510 |  Val. Acc: 48.59%\n",
      "\tTrain Loss: -36.650 | Train Acc: 64.06%\n",
      "\t Val. Loss: -23.729 |  Val. Acc: 48.75%\n",
      "\tTrain Loss: -37.264 | Train Acc: 64.52%\n",
      "\t Val. Loss: -23.228 |  Val. Acc: 51.14%\n",
      "\tTrain Loss: -37.868 | Train Acc: 65.50%\n",
      "\t Val. Loss: -22.856 |  Val. Acc: 51.72%\n",
      "\tTrain Loss: -38.003 | Train Acc: 66.12%\n",
      "\t Val. Loss: -23.072 |  Val. Acc: 52.03%\n",
      "\tTrain Loss: -37.964 | Train Acc: 66.06%\n",
      "\t Val. Loss: -23.606 |  Val. Acc: 51.25%\n",
      "\tTrain Loss: -37.944 | Train Acc: 66.11%\n",
      "\t Val. Loss: -23.773 |  Val. Acc: 51.25%\n",
      "\tTrain Loss: -38.148 | Train Acc: 66.36%\n",
      "\t Val. Loss: -22.905 |  Val. Acc: 51.20%\n",
      "\tTrain Loss: -38.157 | Train Acc: 66.58%\n",
      "\t Val. Loss: -23.379 |  Val. Acc: 51.20%\n",
      "\tTrain Loss: -38.162 | Train Acc: 66.71%\n",
      "\t Val. Loss: -23.154 |  Val. Acc: 50.62%\n",
      "\tTrain Loss: -38.030 | Train Acc: 66.40%\n",
      "\t Val. Loss: -23.211 |  Val. Acc: 51.51%\n",
      "\tTrain Loss: -37.677 | Train Acc: 65.82%\n",
      "\t Val. Loss: -22.845 |  Val. Acc: 50.94%\n",
      "\tTrain Loss: -38.161 | Train Acc: 66.71%\n",
      "\t Val. Loss: -23.270 |  Val. Acc: 50.68%\n",
      "\tTrain Loss: -37.957 | Train Acc: 66.17%\n",
      "\t Val. Loss: -23.262 |  Val. Acc: 52.35%\n",
      "\tTrain Loss: -38.056 | Train Acc: 66.20%\n",
      "\t Val. Loss: -23.111 |  Val. Acc: 50.31%\n",
      "\tTrain Loss: -38.118 | Train Acc: 66.54%\n",
      "\t Val. Loss: -23.054 |  Val. Acc: 49.79%\n",
      "\tTrain Loss: -38.272 | Train Acc: 66.91%\n",
      "\t Val. Loss: -22.916 |  Val. Acc: 50.36%\n",
      "\tTrain Loss: -38.349 | Train Acc: 66.96%\n",
      "\t Val. Loss: -22.654 |  Val. Acc: 50.62%\n",
      "\tTrain Loss: -38.336 | Train Acc: 67.04%\n",
      "\t Val. Loss: -23.234 |  Val. Acc: 51.77%\n",
      "\tTrain Loss: -38.331 | Train Acc: 67.05%\n",
      "\t Val. Loss: -22.547 |  Val. Acc: 51.25%\n",
      "\tTrain Loss: -38.400 | Train Acc: 67.16%\n",
      "\t Val. Loss: -22.320 |  Val. Acc: 50.99%\n",
      "\tTrain Loss: -38.294 | Train Acc: 66.97%\n",
      "\t Val. Loss: -22.515 |  Val. Acc: 51.25%\n",
      "\tTrain Loss: -38.276 | Train Acc: 67.04%\n",
      "\t Val. Loss: -22.788 |  Val. Acc: 50.47%\n",
      "\tTrain Loss: -38.219 | Train Acc: 66.83%\n",
      "\t Val. Loss: -23.320 |  Val. Acc: 48.69%\n",
      "\tTrain Loss: -38.273 | Train Acc: 66.76%\n",
      "\t Val. Loss: -23.400 |  Val. Acc: 49.27%\n",
      "\tTrain Loss: -37.945 | Train Acc: 66.46%\n",
      "\t Val. Loss: -21.878 |  Val. Acc: 49.79%\n",
      "\tTrain Loss: -38.173 | Train Acc: 66.37%\n",
      "\t Val. Loss: -22.423 |  Val. Acc: 49.38%\n",
      "\tTrain Loss: -38.091 | Train Acc: 66.46%\n",
      "\t Val. Loss: -22.864 |  Val. Acc: 50.99%\n"
     ]
    }
   ],
   "source": [
    "N_EPOCHS = 50\n",
    "best_valid_loss = float('inf')\n",
    "\n",
    "for epoch in range(N_EPOCHS):\n",
    "     \n",
    "    #train the model\n",
    "    train_loss, train_acc = train(model, train_iterator, optimizer, criterion)\n",
    "    \n",
    "    #evaluate the model\n",
    "    valid_loss, valid_acc = evaluate(model, valid_iterator, criterion)\n",
    "    \n",
    "    #save the best model\n",
    "    if valid_loss < best_valid_loss:\n",
    "        best_valid_loss = valid_loss\n",
    "        torch.save(model.state_dict(), 'saved_weights.pt')\n",
    "    \n",
    "    print(f'\\tTrain Loss: {train_loss:.3f} | Train Acc: {train_acc*100:.2f}%')\n",
    "    print(f'\\t Val. Loss: {valid_loss:.3f} |  Val. Acc: {valid_acc*100:.2f}%')"
   ]
  },
  {
   "cell_type": "code",
   "execution_count": 56,
   "metadata": {},
   "outputs": [],
   "source": [
    "#load weights\n",
    "path=\"saved_weights.pt\"\n",
    "model.load_state_dict(torch.load(path));\n",
    "model.eval();\n",
    "\n",
    "#inference \n",
    "import spacy\n",
    "nlp = spacy.load(\"en_core_web_sm\")\n",
    "\n",
    "def predict(model, sentence):\n",
    "    tokenized = [tok.text for tok in nlp.tokenizer(sentence)]  #tokenize the sentence \n",
    "    indexed = [TEXT.vocab.stoi[t] for t in tokenized]          #convert to integer sequence\n",
    "    length = [len(indexed)]                                    #compute no. of words\n",
    "    tensor = torch.LongTensor(indexed).to(device)              #convert to tensor\n",
    "    tensor = tensor.unsqueeze(1).T                             #reshape in form of batch,no. of words\n",
    "    length_tensor = torch.LongTensor(length)                   #convert to tensor\n",
    "    prediction = model(tensor, length_tensor)                  #prediction \n",
    "    return prediction.item()        "
   ]
  },
  {
   "cell_type": "code",
   "execution_count": 57,
   "metadata": {},
   "outputs": [
    {
     "data": {
      "text/plain": [
       "0.9972957968711853"
      ]
     },
     "execution_count": 57,
     "metadata": {},
     "output_type": "execute_result"
    }
   ],
   "source": [
    "predict(model, \"haha\")"
   ]
  },
  {
   "cell_type": "code",
   "execution_count": null,
   "metadata": {},
   "outputs": [],
   "source": []
  },
  {
   "cell_type": "code",
   "execution_count": null,
   "metadata": {},
   "outputs": [],
   "source": []
  },
  {
   "cell_type": "code",
   "execution_count": null,
   "metadata": {},
   "outputs": [],
   "source": []
  },
  {
   "cell_type": "code",
   "execution_count": null,
   "metadata": {},
   "outputs": [],
   "source": []
  },
  {
   "cell_type": "code",
   "execution_count": null,
   "metadata": {},
   "outputs": [],
   "source": []
  },
  {
   "cell_type": "code",
   "execution_count": null,
   "metadata": {},
   "outputs": [],
   "source": []
  },
  {
   "cell_type": "code",
   "execution_count": null,
   "metadata": {},
   "outputs": [],
   "source": []
  },
  {
   "cell_type": "code",
   "execution_count": null,
   "metadata": {},
   "outputs": [],
   "source": []
  }
 ],
 "metadata": {
  "kernelspec": {
   "display_name": "Python 3 (ipykernel)",
   "language": "python",
   "name": "python3"
  },
  "language_info": {
   "codemirror_mode": {
    "name": "ipython",
    "version": 3
   },
   "file_extension": ".py",
   "mimetype": "text/x-python",
   "name": "python",
   "nbconvert_exporter": "python",
   "pygments_lexer": "ipython3",
   "version": "3.8.5"
  }
 },
 "nbformat": 4,
 "nbformat_minor": 4
}
